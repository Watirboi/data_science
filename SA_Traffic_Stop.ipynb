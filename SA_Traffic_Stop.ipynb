{
 "cells": [
  {
   "cell_type": "markdown",
   "metadata": {
    "colab_type": "text",
    "id": "view-in-github"
   },
   "source": [
    "<a href=\"https://colab.research.google.com/github/Watirboi/data_science/blob/main/SA_Traffic_Stop.ipynb\" target=\"_parent\"><img src=\"https://colab.research.google.com/assets/colab-badge.svg\" alt=\"Open In Colab\"/></a>"
   ]
  },
  {
   "cell_type": "markdown",
   "metadata": {
    "id": "KxR9NjZ-j-cC"
   },
   "source": [
    "# Analyzing Traffic Data in San Antonio, TX"
   ]
  },
  {
   "cell_type": "markdown",
   "metadata": {
    "id": "VK4qngodhSoq"
   },
   "source": [
    "## Importing the Libraries"
   ]
  },
  {
   "cell_type": "code",
   "execution_count": 86,
   "metadata": {
    "id": "qwpOgu9Pj8eG"
   },
   "outputs": [],
   "source": [
    "import pandas as pd\n",
    "# Suppress scientific notation\n",
    "pd.set_option('display.float_format', lambda x: '%.3f' % x)\n",
    "import numpy as np\n",
    "import matplotlib.pyplot as plt\n",
    "import seaborn as sns\n",
    "from sklearn.preprocessing import LabelEncoder\n",
    "import warnings\n",
    "warnings.simplefilter(action='ignore', category=FutureWarning)\n",
    "%matplotlib inline"
   ]
  },
  {
   "cell_type": "markdown",
   "metadata": {
    "id": "9l2FYWL7hZ-K"
   },
   "source": [
    "## Importing the Datasets"
   ]
  },
  {
   "cell_type": "code",
   "execution_count": 87,
   "metadata": {
    "id": "K2CK4-mWkMMz"
   },
   "outputs": [
    {
     "data": {
      "text/html": [
       "<div>\n",
       "<style scoped>\n",
       "    .dataframe tbody tr th:only-of-type {\n",
       "        vertical-align: middle;\n",
       "    }\n",
       "\n",
       "    .dataframe tbody tr th {\n",
       "        vertical-align: top;\n",
       "    }\n",
       "\n",
       "    .dataframe thead th {\n",
       "        text-align: right;\n",
       "    }\n",
       "</style>\n",
       "<table border=\"1\" class=\"dataframe\">\n",
       "  <thead>\n",
       "    <tr style=\"text-align: right;\">\n",
       "      <th></th>\n",
       "      <th>date</th>\n",
       "      <th>time</th>\n",
       "      <th>location</th>\n",
       "      <th>substation</th>\n",
       "      <th>subject_age</th>\n",
       "      <th>subject_sex</th>\n",
       "      <th>violation</th>\n",
       "      <th>subject_race</th>\n",
       "    </tr>\n",
       "  </thead>\n",
       "  <tbody>\n",
       "    <tr>\n",
       "      <th>0</th>\n",
       "      <td>2015-04-03</td>\n",
       "      <td>20:35:00</td>\n",
       "      <td>31       RUE CHARLES</td>\n",
       "      <td>NORTH</td>\n",
       "      <td>24.000</td>\n",
       "      <td>male</td>\n",
       "      <td>FAILURE TO DISPLAY VALID REGISTRATION INSIGNIA...</td>\n",
       "      <td>white</td>\n",
       "    </tr>\n",
       "    <tr>\n",
       "      <th>1</th>\n",
       "      <td>2014-08-10</td>\n",
       "      <td>09:55:00</td>\n",
       "      <td>FRONTAGE RD 16</td>\n",
       "      <td>SOUTH</td>\n",
       "      <td>nan</td>\n",
       "      <td>male</td>\n",
       "      <td>5-11 UNLAWFULLY SELLING AN ANIMAL AT ANOUTDOOR...</td>\n",
       "      <td>unknown</td>\n",
       "    </tr>\n",
       "    <tr>\n",
       "      <th>2</th>\n",
       "      <td>2014-11-01</td>\n",
       "      <td>15:00:00</td>\n",
       "      <td>1900     DAKOTA</td>\n",
       "      <td>EAST</td>\n",
       "      <td>48.000</td>\n",
       "      <td>male</td>\n",
       "      <td>5-150 VIOLATING ANIMAL NUISANCE REQUIREMENTS</td>\n",
       "      <td>hispanic</td>\n",
       "    </tr>\n",
       "    <tr>\n",
       "      <th>3</th>\n",
       "      <td>2014-02-14</td>\n",
       "      <td>20:24:00</td>\n",
       "      <td>5439     ENCANTA</td>\n",
       "      <td>NORTH</td>\n",
       "      <td>40.000</td>\n",
       "      <td>female</td>\n",
       "      <td>5-100 FAILURE TO COMPLY WITH DOG AND CATLICENS...</td>\n",
       "      <td>white</td>\n",
       "    </tr>\n",
       "    <tr>\n",
       "      <th>4</th>\n",
       "      <td>2014-11-03</td>\n",
       "      <td>16:30:00</td>\n",
       "      <td>5530     HAVENCREST</td>\n",
       "      <td>SOUTH</td>\n",
       "      <td>44.000</td>\n",
       "      <td>male</td>\n",
       "      <td>5-125 VIOLATING RABIES VACCINATION REQUIREMENT</td>\n",
       "      <td>hispanic</td>\n",
       "    </tr>\n",
       "  </tbody>\n",
       "</table>\n",
       "</div>"
      ],
      "text/plain": [
       "         date      time              location substation  subject_age  \\\n",
       "0  2015-04-03  20:35:00  31       RUE CHARLES      NORTH       24.000   \n",
       "1  2014-08-10  09:55:00        FRONTAGE RD 16      SOUTH          nan   \n",
       "2  2014-11-01  15:00:00       1900     DAKOTA       EAST       48.000   \n",
       "3  2014-02-14  20:24:00      5439     ENCANTA      NORTH       40.000   \n",
       "4  2014-11-03  16:30:00   5530     HAVENCREST      SOUTH       44.000   \n",
       "\n",
       "  subject_sex                                          violation subject_race  \n",
       "0        male  FAILURE TO DISPLAY VALID REGISTRATION INSIGNIA...        white  \n",
       "1        male  5-11 UNLAWFULLY SELLING AN ANIMAL AT ANOUTDOOR...      unknown  \n",
       "2        male       5-150 VIOLATING ANIMAL NUISANCE REQUIREMENTS     hispanic  \n",
       "3      female  5-100 FAILURE TO COMPLY WITH DOG AND CATLICENS...        white  \n",
       "4        male     5-125 VIOLATING RABIES VACCINATION REQUIREMENT     hispanic  "
      ]
     },
     "execution_count": 87,
     "metadata": {},
     "output_type": "execute_result"
    }
   ],
   "source": [
    "filename = 'tx_san_antonio_2020_04_01.csv'\n",
    "names = ['date','time','location','substation','subject_age','subject_sex','violation','subject_race']\n",
    "sa_traffic = pd.read_csv(filename, header=0, usecols=names)\n",
    "sa_traffic = sa_traffic.reindex(columns=names)\n",
    "sa_traffic.head()"
   ]
  },
  {
   "cell_type": "code",
   "execution_count": 85,
   "metadata": {},
   "outputs": [
    {
     "data": {
      "text/plain": [
       "(1040428, 8)"
      ]
     },
     "execution_count": 85,
     "metadata": {},
     "output_type": "execute_result"
    }
   ],
   "source": [
    "sa_traffic.shape"
   ]
  },
  {
   "cell_type": "markdown",
   "metadata": {
    "id": "YGnD6eR1nqY3"
   },
   "source": [
    "## Taking Care of missing data"
   ]
  },
  {
   "cell_type": "code",
   "execution_count": 4,
   "metadata": {
    "colab": {
     "base_uri": "https://localhost:8080/",
     "height": 187
    },
    "id": "aFtYKqmHq7jm",
    "outputId": "d2dab50f-0de1-4af1-ac06-d3bce04ab527"
   },
   "outputs": [
    {
     "name": "stdout",
     "output_type": "stream",
     "text": [
      "date                0\n",
      "time                1\n",
      "location            3\n",
      "substation      79420\n",
      "subject_age      1331\n",
      "subject_sex      2796\n",
      "violation           7\n",
      "subject_race      266\n",
      "dtype: int64\n",
      "None\n"
     ]
    }
   ],
   "source": [
    "# missing data counts\n",
    "print(print(sa_traffic.isnull().sum()))"
   ]
  },
  {
   "cell_type": "code",
   "execution_count": null,
   "metadata": {},
   "outputs": [],
   "source": []
  },
  {
   "cell_type": "code",
   "execution_count": 5,
   "metadata": {
    "colab": {
     "base_uri": "https://localhost:8080/",
     "height": 170
    },
    "id": "NC5FO2W8-4Su",
    "outputId": "573a6f19-8bd8-4aa3-9898-59b1ce8af3ee"
   },
   "outputs": [
    {
     "name": "stdout",
     "output_type": "stream",
     "text": [
      "date             object\n",
      "time             object\n",
      "location         object\n",
      "substation       object\n",
      "subject_age     float64\n",
      "subject_sex      object\n",
      "violation        object\n",
      "subject_race     object\n",
      "dtype: object\n"
     ]
    }
   ],
   "source": [
    "print(sa_traffic.dtypes)"
   ]
  },
  {
   "cell_type": "code",
   "execution_count": 6,
   "metadata": {
    "id": "XjwgMthxp_zd"
   },
   "outputs": [],
   "source": [
    "from sklearn.impute import SimpleImputer\n",
    "# handle string date column\n",
    "s_imputer = SimpleImputer(missing_values=np.nan, strategy='constant', fill_value='No Data') # string or object values\n",
    "s_imputer.fit(sa_traffic.iloc[:, 0:1])\n",
    "sa_traffic.iloc[:, 0:1] = s_imputer.transform(sa_traffic.iloc[:, 0:1])\n",
    "\n",
    "# handle string time column\n",
    "s_time_imputer = SimpleImputer(missing_values=np.nan, strategy='constant', fill_value='00:00:00')\n",
    "s_time_imputer.fit(sa_traffic.iloc[:, 1:2]) \n",
    "sa_traffic.iloc[:, 1:2] = s_time_imputer.transform(sa_traffic.iloc[:, 1:2])\n",
    "\n",
    "# handle string ['location','substation'] columns\n",
    "s_imputer = SimpleImputer(missing_values=np.nan, strategy='constant', fill_value='No Data')\n",
    "s_imputer.fit(sa_traffic.iloc[:, 2:4]) \n",
    "sa_traffic.iloc[:, 2:4] = s_imputer.transform(sa_traffic.iloc[:, 2:4])\n",
    "\n",
    "s_subject_age_imputer = SimpleImputer(missing_values=np.nan, strategy='mean') # only numerical values\n",
    "s_subject_age_imputer.fit(sa_traffic.iloc[:, 4:5]) \n",
    "sa_traffic.iloc[:, 4:5] = s_subject_age_imputer.transform(sa_traffic.iloc[:, 4:5])\n",
    "\n",
    "s_imputer.fit(sa_traffic.iloc[:, 5:8])\n",
    "sa_traffic.iloc[:, 5:8] = s_imputer.transform(sa_traffic.iloc[:, 5:8])"
   ]
  },
  {
   "cell_type": "code",
   "execution_count": 7,
   "metadata": {
    "colab": {
     "base_uri": "https://localhost:8080/",
     "height": 221
    },
    "id": "7UWj3ugNXv3A",
    "outputId": "d21e59fd-5580-4d6c-8368-01ec13c1e04b"
   },
   "outputs": [
    {
     "data": {
      "text/plain": [
       "0         2015-04-03 20:35:00\n",
       "1         2014-08-10 09:55:00\n",
       "2         2014-11-01 15:00:00\n",
       "3         2014-02-14 20:24:00\n",
       "4         2014-11-03 16:30:00\n",
       "                  ...        \n",
       "1040423   2018-04-10 06:05:00\n",
       "1040424   2018-04-10 06:12:00\n",
       "1040425   2012-04-19 08:20:00\n",
       "1040426   2012-04-24 13:51:00\n",
       "1040427   2012-12-13 10:53:00\n",
       "Length: 1040428, dtype: datetime64[ns]"
      ]
     },
     "execution_count": 7,
     "metadata": {},
     "output_type": "execute_result"
    }
   ],
   "source": [
    "pd.to_datetime(sa_traffic['date'] + ' ' + sa_traffic['time'])"
   ]
  },
  {
   "cell_type": "code",
   "execution_count": 8,
   "metadata": {
    "colab": {
     "base_uri": "https://localhost:8080/",
     "height": 187
    },
    "id": "gpGAOH1oUUOp",
    "outputId": "99b64bcb-fe17-4577-ea6c-0c274c667d1f"
   },
   "outputs": [
    {
     "name": "stdout",
     "output_type": "stream",
     "text": [
      "date            0\n",
      "time            0\n",
      "location        0\n",
      "substation      0\n",
      "subject_age     0\n",
      "subject_sex     0\n",
      "violation       0\n",
      "subject_race    0\n",
      "dtype: int64\n",
      "None\n"
     ]
    }
   ],
   "source": [
    "# Verify no nulls remain\n",
    "print(print(sa_traffic.isnull().sum()))"
   ]
  },
  {
   "cell_type": "markdown",
   "metadata": {
    "id": "jP_yTM5DhkMI"
   },
   "source": [
    "## Dataset Evaluation"
   ]
  },
  {
   "cell_type": "code",
   "execution_count": 9,
   "metadata": {
    "colab": {
     "base_uri": "https://localhost:8080/",
     "height": 289
    },
    "id": "uLy6TXoUkUOS",
    "outputId": "0459468f-4139-44d0-e5b0-2520617cd994"
   },
   "outputs": [
    {
     "data": {
      "text/html": [
       "<div>\n",
       "<style scoped>\n",
       "    .dataframe tbody tr th:only-of-type {\n",
       "        vertical-align: middle;\n",
       "    }\n",
       "\n",
       "    .dataframe tbody tr th {\n",
       "        vertical-align: top;\n",
       "    }\n",
       "\n",
       "    .dataframe thead th {\n",
       "        text-align: right;\n",
       "    }\n",
       "</style>\n",
       "<table border=\"1\" class=\"dataframe\">\n",
       "  <thead>\n",
       "    <tr style=\"text-align: right;\">\n",
       "      <th></th>\n",
       "      <th>date</th>\n",
       "      <th>time</th>\n",
       "      <th>location</th>\n",
       "      <th>substation</th>\n",
       "      <th>subject_age</th>\n",
       "      <th>subject_sex</th>\n",
       "      <th>violation</th>\n",
       "      <th>subject_race</th>\n",
       "    </tr>\n",
       "  </thead>\n",
       "  <tbody>\n",
       "    <tr>\n",
       "      <th>0</th>\n",
       "      <td>2015-04-03</td>\n",
       "      <td>20:35:00</td>\n",
       "      <td>31       RUE CHARLES</td>\n",
       "      <td>NORTH</td>\n",
       "      <td>24.000</td>\n",
       "      <td>male</td>\n",
       "      <td>FAILURE TO DISPLAY VALID REGISTRATION INSIGNIA...</td>\n",
       "      <td>white</td>\n",
       "    </tr>\n",
       "    <tr>\n",
       "      <th>1</th>\n",
       "      <td>2014-08-10</td>\n",
       "      <td>09:55:00</td>\n",
       "      <td>FRONTAGE RD 16</td>\n",
       "      <td>SOUTH</td>\n",
       "      <td>35.782</td>\n",
       "      <td>male</td>\n",
       "      <td>5-11 UNLAWFULLY SELLING AN ANIMAL AT ANOUTDOOR...</td>\n",
       "      <td>unknown</td>\n",
       "    </tr>\n",
       "    <tr>\n",
       "      <th>2</th>\n",
       "      <td>2014-11-01</td>\n",
       "      <td>15:00:00</td>\n",
       "      <td>1900     DAKOTA</td>\n",
       "      <td>EAST</td>\n",
       "      <td>48.000</td>\n",
       "      <td>male</td>\n",
       "      <td>5-150 VIOLATING ANIMAL NUISANCE REQUIREMENTS</td>\n",
       "      <td>hispanic</td>\n",
       "    </tr>\n",
       "    <tr>\n",
       "      <th>3</th>\n",
       "      <td>2014-02-14</td>\n",
       "      <td>20:24:00</td>\n",
       "      <td>5439     ENCANTA</td>\n",
       "      <td>NORTH</td>\n",
       "      <td>40.000</td>\n",
       "      <td>female</td>\n",
       "      <td>5-100 FAILURE TO COMPLY WITH DOG AND CATLICENS...</td>\n",
       "      <td>white</td>\n",
       "    </tr>\n",
       "    <tr>\n",
       "      <th>4</th>\n",
       "      <td>2014-11-03</td>\n",
       "      <td>16:30:00</td>\n",
       "      <td>5530     HAVENCREST</td>\n",
       "      <td>SOUTH</td>\n",
       "      <td>44.000</td>\n",
       "      <td>male</td>\n",
       "      <td>5-125 VIOLATING RABIES VACCINATION REQUIREMENT</td>\n",
       "      <td>hispanic</td>\n",
       "    </tr>\n",
       "  </tbody>\n",
       "</table>\n",
       "</div>"
      ],
      "text/plain": [
       "         date      time              location substation  subject_age  \\\n",
       "0  2015-04-03  20:35:00  31       RUE CHARLES      NORTH       24.000   \n",
       "1  2014-08-10  09:55:00        FRONTAGE RD 16      SOUTH       35.782   \n",
       "2  2014-11-01  15:00:00       1900     DAKOTA       EAST       48.000   \n",
       "3  2014-02-14  20:24:00      5439     ENCANTA      NORTH       40.000   \n",
       "4  2014-11-03  16:30:00   5530     HAVENCREST      SOUTH       44.000   \n",
       "\n",
       "  subject_sex                                          violation subject_race  \n",
       "0        male  FAILURE TO DISPLAY VALID REGISTRATION INSIGNIA...        white  \n",
       "1        male  5-11 UNLAWFULLY SELLING AN ANIMAL AT ANOUTDOOR...      unknown  \n",
       "2        male       5-150 VIOLATING ANIMAL NUISANCE REQUIREMENTS     hispanic  \n",
       "3      female  5-100 FAILURE TO COMPLY WITH DOG AND CATLICENS...        white  \n",
       "4        male     5-125 VIOLATING RABIES VACCINATION REQUIREMENT     hispanic  "
      ]
     },
     "execution_count": 9,
     "metadata": {},
     "output_type": "execute_result"
    }
   ],
   "source": [
    "sa_traffic.head()"
   ]
  },
  {
   "cell_type": "code",
   "execution_count": 10,
   "metadata": {
    "colab": {
     "base_uri": "https://localhost:8080/",
     "height": 170
    },
    "id": "XY1E36TmknD7",
    "outputId": "055512e8-734e-4062-dee9-48545a01d06d"
   },
   "outputs": [
    {
     "data": {
      "text/plain": [
       "date             object\n",
       "time             object\n",
       "location         object\n",
       "substation       object\n",
       "subject_age     float64\n",
       "subject_sex      object\n",
       "violation        object\n",
       "subject_race     object\n",
       "dtype: object"
      ]
     },
     "execution_count": 10,
     "metadata": {},
     "output_type": "execute_result"
    }
   ],
   "source": [
    "sa_traffic.dtypes"
   ]
  },
  {
   "cell_type": "code",
   "execution_count": 11,
   "metadata": {
    "colab": {
     "base_uri": "https://localhost:8080/",
     "height": 119
    },
    "id": "8cColf2qlMJ1",
    "outputId": "b4ae5ba6-a885-44cc-ac40-9c9286c36acf"
   },
   "outputs": [
    {
     "data": {
      "text/plain": [
       "0    20\n",
       "1     9\n",
       "2    15\n",
       "3    20\n",
       "4    16\n",
       "Name: time, dtype: int64"
      ]
     },
     "execution_count": 11,
     "metadata": {},
     "output_type": "execute_result"
    }
   ],
   "source": [
    "# 8 characters from the end to 6 characters from the end\n",
    "# this is quite a chore\n",
    "sa_traffic.time.str.slice(-8, -6).astype(int).head()"
   ]
  },
  {
   "cell_type": "code",
   "execution_count": 12,
   "metadata": {
    "colab": {
     "base_uri": "https://localhost:8080/",
     "height": 289
    },
    "id": "1ar2CV9YlqPg",
    "outputId": "814a45af-8161-4d4f-9248-97b0b1fcf916"
   },
   "outputs": [
    {
     "data": {
      "text/html": [
       "<div>\n",
       "<style scoped>\n",
       "    .dataframe tbody tr th:only-of-type {\n",
       "        vertical-align: middle;\n",
       "    }\n",
       "\n",
       "    .dataframe tbody tr th {\n",
       "        vertical-align: top;\n",
       "    }\n",
       "\n",
       "    .dataframe thead th {\n",
       "        text-align: right;\n",
       "    }\n",
       "</style>\n",
       "<table border=\"1\" class=\"dataframe\">\n",
       "  <thead>\n",
       "    <tr style=\"text-align: right;\">\n",
       "      <th></th>\n",
       "      <th>date</th>\n",
       "      <th>time</th>\n",
       "      <th>location</th>\n",
       "      <th>substation</th>\n",
       "      <th>subject_age</th>\n",
       "      <th>subject_sex</th>\n",
       "      <th>violation</th>\n",
       "      <th>subject_race</th>\n",
       "    </tr>\n",
       "  </thead>\n",
       "  <tbody>\n",
       "    <tr>\n",
       "      <th>0</th>\n",
       "      <td>2015-04-03</td>\n",
       "      <td>2021-01-04 20:35:00</td>\n",
       "      <td>31       RUE CHARLES</td>\n",
       "      <td>NORTH</td>\n",
       "      <td>24.000</td>\n",
       "      <td>male</td>\n",
       "      <td>FAILURE TO DISPLAY VALID REGISTRATION INSIGNIA...</td>\n",
       "      <td>white</td>\n",
       "    </tr>\n",
       "    <tr>\n",
       "      <th>1</th>\n",
       "      <td>2014-08-10</td>\n",
       "      <td>2021-01-04 09:55:00</td>\n",
       "      <td>FRONTAGE RD 16</td>\n",
       "      <td>SOUTH</td>\n",
       "      <td>35.782</td>\n",
       "      <td>male</td>\n",
       "      <td>5-11 UNLAWFULLY SELLING AN ANIMAL AT ANOUTDOOR...</td>\n",
       "      <td>unknown</td>\n",
       "    </tr>\n",
       "    <tr>\n",
       "      <th>2</th>\n",
       "      <td>2014-11-01</td>\n",
       "      <td>2021-01-04 15:00:00</td>\n",
       "      <td>1900     DAKOTA</td>\n",
       "      <td>EAST</td>\n",
       "      <td>48.000</td>\n",
       "      <td>male</td>\n",
       "      <td>5-150 VIOLATING ANIMAL NUISANCE REQUIREMENTS</td>\n",
       "      <td>hispanic</td>\n",
       "    </tr>\n",
       "    <tr>\n",
       "      <th>3</th>\n",
       "      <td>2014-02-14</td>\n",
       "      <td>2021-01-04 20:24:00</td>\n",
       "      <td>5439     ENCANTA</td>\n",
       "      <td>NORTH</td>\n",
       "      <td>40.000</td>\n",
       "      <td>female</td>\n",
       "      <td>5-100 FAILURE TO COMPLY WITH DOG AND CATLICENS...</td>\n",
       "      <td>white</td>\n",
       "    </tr>\n",
       "    <tr>\n",
       "      <th>4</th>\n",
       "      <td>2014-11-03</td>\n",
       "      <td>2021-01-04 16:30:00</td>\n",
       "      <td>5530     HAVENCREST</td>\n",
       "      <td>SOUTH</td>\n",
       "      <td>44.000</td>\n",
       "      <td>male</td>\n",
       "      <td>5-125 VIOLATING RABIES VACCINATION REQUIREMENT</td>\n",
       "      <td>hispanic</td>\n",
       "    </tr>\n",
       "  </tbody>\n",
       "</table>\n",
       "</div>"
      ],
      "text/plain": [
       "         date                time              location substation  \\\n",
       "0  2015-04-03 2021-01-04 20:35:00  31       RUE CHARLES      NORTH   \n",
       "1  2014-08-10 2021-01-04 09:55:00        FRONTAGE RD 16      SOUTH   \n",
       "2  2014-11-01 2021-01-04 15:00:00       1900     DAKOTA       EAST   \n",
       "3  2014-02-14 2021-01-04 20:24:00      5439     ENCANTA      NORTH   \n",
       "4  2014-11-03 2021-01-04 16:30:00   5530     HAVENCREST      SOUTH   \n",
       "\n",
       "   subject_age subject_sex                                          violation  \\\n",
       "0       24.000        male  FAILURE TO DISPLAY VALID REGISTRATION INSIGNIA...   \n",
       "1       35.782        male  5-11 UNLAWFULLY SELLING AN ANIMAL AT ANOUTDOOR...   \n",
       "2       48.000        male       5-150 VIOLATING ANIMAL NUISANCE REQUIREMENTS   \n",
       "3       40.000      female  5-100 FAILURE TO COMPLY WITH DOG AND CATLICENS...   \n",
       "4       44.000        male     5-125 VIOLATING RABIES VACCINATION REQUIREMENT   \n",
       "\n",
       "  subject_race  \n",
       "0        white  \n",
       "1      unknown  \n",
       "2     hispanic  \n",
       "3        white  \n",
       "4     hispanic  "
      ]
     },
     "execution_count": 12,
     "metadata": {},
     "output_type": "execute_result"
    }
   ],
   "source": [
    "# we will convert the Time column to datatime format\n",
    "# there are many options to ensure this works well with your data\n",
    "sa_traffic['time'] = pd.to_datetime(sa_traffic.time)\n",
    "sa_traffic.head()"
   ]
  },
  {
   "cell_type": "code",
   "execution_count": 13,
   "metadata": {
    "colab": {
     "base_uri": "https://localhost:8080/",
     "height": 170
    },
    "id": "LoSHyE5Bl8A6",
    "outputId": "a83cb601-8b34-4468-d10a-608276b7d2fd"
   },
   "outputs": [
    {
     "data": {
      "text/plain": [
       "date                    object\n",
       "time            datetime64[ns]\n",
       "location                object\n",
       "substation              object\n",
       "subject_age            float64\n",
       "subject_sex             object\n",
       "violation               object\n",
       "subject_race            object\n",
       "dtype: object"
      ]
     },
     "execution_count": 13,
     "metadata": {},
     "output_type": "execute_result"
    }
   ],
   "source": [
    "sa_traffic.dtypes"
   ]
  },
  {
   "cell_type": "code",
   "execution_count": 14,
   "metadata": {
    "colab": {
     "base_uri": "https://localhost:8080/",
     "height": 119
    },
    "id": "s0-XWm6HmNWo",
    "outputId": "db0945b8-2c29-4437-98d0-d993f48f1d52"
   },
   "outputs": [
    {
     "data": {
      "text/plain": [
       "0    20\n",
       "1     9\n",
       "2    15\n",
       "3    20\n",
       "4    16\n",
       "Name: time, dtype: int64"
      ]
     },
     "execution_count": 14,
     "metadata": {},
     "output_type": "execute_result"
    }
   ],
   "source": [
    "sa_traffic.time.dt.hour.head()"
   ]
  },
  {
   "cell_type": "code",
   "execution_count": 15,
   "metadata": {
    "colab": {
     "base_uri": "https://localhost:8080/",
     "height": 119
    },
    "id": "55Y-teBemRQs",
    "outputId": "6b3d6080-4527-4475-808b-13679658e615"
   },
   "outputs": [
    {
     "data": {
      "text/plain": [
       "0    0\n",
       "1    0\n",
       "2    0\n",
       "3    0\n",
       "4    0\n",
       "Name: time, dtype: int64"
      ]
     },
     "execution_count": 15,
     "metadata": {},
     "output_type": "execute_result"
    }
   ],
   "source": [
    "sa_traffic.time.dt.weekday.head()"
   ]
  },
  {
   "cell_type": "code",
   "execution_count": 16,
   "metadata": {
    "colab": {
     "base_uri": "https://localhost:8080/",
     "height": 119
    },
    "id": "oAw49-V2mYGw",
    "outputId": "92554000-3c39-4e2a-eef8-c25b055c3c45"
   },
   "outputs": [
    {
     "data": {
      "text/plain": [
       "0    4\n",
       "1    4\n",
       "2    4\n",
       "3    4\n",
       "4    4\n",
       "Name: time, dtype: int64"
      ]
     },
     "execution_count": 16,
     "metadata": {},
     "output_type": "execute_result"
    }
   ],
   "source": [
    "sa_traffic.time.dt.dayofyear.head()"
   ]
  },
  {
   "cell_type": "markdown",
   "metadata": {
    "id": "meaD2a83me5K"
   },
   "source": [
    "## Timestamps"
   ]
  },
  {
   "cell_type": "code",
   "execution_count": 17,
   "metadata": {
    "id": "1ErQcKEbmkuZ"
   },
   "outputs": [],
   "source": [
    "ts = pd.to_datetime('1/1/2012')"
   ]
  },
  {
   "cell_type": "code",
   "execution_count": 18,
   "metadata": {
    "colab": {
     "base_uri": "https://localhost:8080/",
     "height": 289
    },
    "id": "-LteHM7cms9f",
    "outputId": "392de1b9-7001-4316-d058-9ebd73bfe7bd"
   },
   "outputs": [
    {
     "data": {
      "text/html": [
       "<div>\n",
       "<style scoped>\n",
       "    .dataframe tbody tr th:only-of-type {\n",
       "        vertical-align: middle;\n",
       "    }\n",
       "\n",
       "    .dataframe tbody tr th {\n",
       "        vertical-align: top;\n",
       "    }\n",
       "\n",
       "    .dataframe thead th {\n",
       "        text-align: right;\n",
       "    }\n",
       "</style>\n",
       "<table border=\"1\" class=\"dataframe\">\n",
       "  <thead>\n",
       "    <tr style=\"text-align: right;\">\n",
       "      <th></th>\n",
       "      <th>date</th>\n",
       "      <th>time</th>\n",
       "      <th>location</th>\n",
       "      <th>substation</th>\n",
       "      <th>subject_age</th>\n",
       "      <th>subject_sex</th>\n",
       "      <th>violation</th>\n",
       "      <th>subject_race</th>\n",
       "    </tr>\n",
       "  </thead>\n",
       "  <tbody>\n",
       "    <tr>\n",
       "      <th>0</th>\n",
       "      <td>2015-04-03</td>\n",
       "      <td>2021-01-04 20:35:00</td>\n",
       "      <td>31       RUE CHARLES</td>\n",
       "      <td>NORTH</td>\n",
       "      <td>24.000</td>\n",
       "      <td>male</td>\n",
       "      <td>FAILURE TO DISPLAY VALID REGISTRATION INSIGNIA...</td>\n",
       "      <td>white</td>\n",
       "    </tr>\n",
       "    <tr>\n",
       "      <th>1</th>\n",
       "      <td>2014-08-10</td>\n",
       "      <td>2021-01-04 09:55:00</td>\n",
       "      <td>FRONTAGE RD 16</td>\n",
       "      <td>SOUTH</td>\n",
       "      <td>35.782</td>\n",
       "      <td>male</td>\n",
       "      <td>5-11 UNLAWFULLY SELLING AN ANIMAL AT ANOUTDOOR...</td>\n",
       "      <td>unknown</td>\n",
       "    </tr>\n",
       "    <tr>\n",
       "      <th>2</th>\n",
       "      <td>2014-11-01</td>\n",
       "      <td>2021-01-04 15:00:00</td>\n",
       "      <td>1900     DAKOTA</td>\n",
       "      <td>EAST</td>\n",
       "      <td>48.000</td>\n",
       "      <td>male</td>\n",
       "      <td>5-150 VIOLATING ANIMAL NUISANCE REQUIREMENTS</td>\n",
       "      <td>hispanic</td>\n",
       "    </tr>\n",
       "    <tr>\n",
       "      <th>3</th>\n",
       "      <td>2014-02-14</td>\n",
       "      <td>2021-01-04 20:24:00</td>\n",
       "      <td>5439     ENCANTA</td>\n",
       "      <td>NORTH</td>\n",
       "      <td>40.000</td>\n",
       "      <td>female</td>\n",
       "      <td>5-100 FAILURE TO COMPLY WITH DOG AND CATLICENS...</td>\n",
       "      <td>white</td>\n",
       "    </tr>\n",
       "    <tr>\n",
       "      <th>4</th>\n",
       "      <td>2014-11-03</td>\n",
       "      <td>2021-01-04 16:30:00</td>\n",
       "      <td>5530     HAVENCREST</td>\n",
       "      <td>SOUTH</td>\n",
       "      <td>44.000</td>\n",
       "      <td>male</td>\n",
       "      <td>5-125 VIOLATING RABIES VACCINATION REQUIREMENT</td>\n",
       "      <td>hispanic</td>\n",
       "    </tr>\n",
       "  </tbody>\n",
       "</table>\n",
       "</div>"
      ],
      "text/plain": [
       "         date                time              location substation  \\\n",
       "0  2015-04-03 2021-01-04 20:35:00  31       RUE CHARLES      NORTH   \n",
       "1  2014-08-10 2021-01-04 09:55:00        FRONTAGE RD 16      SOUTH   \n",
       "2  2014-11-01 2021-01-04 15:00:00       1900     DAKOTA       EAST   \n",
       "3  2014-02-14 2021-01-04 20:24:00      5439     ENCANTA      NORTH   \n",
       "4  2014-11-03 2021-01-04 16:30:00   5530     HAVENCREST      SOUTH   \n",
       "\n",
       "   subject_age subject_sex                                          violation  \\\n",
       "0       24.000        male  FAILURE TO DISPLAY VALID REGISTRATION INSIGNIA...   \n",
       "1       35.782        male  5-11 UNLAWFULLY SELLING AN ANIMAL AT ANOUTDOOR...   \n",
       "2       48.000        male       5-150 VIOLATING ANIMAL NUISANCE REQUIREMENTS   \n",
       "3       40.000      female  5-100 FAILURE TO COMPLY WITH DOG AND CATLICENS...   \n",
       "4       44.000        male     5-125 VIOLATING RABIES VACCINATION REQUIREMENT   \n",
       "\n",
       "  subject_race  \n",
       "0        white  \n",
       "1      unknown  \n",
       "2     hispanic  \n",
       "3        white  \n",
       "4     hispanic  "
      ]
     },
     "execution_count": 18,
     "metadata": {},
     "output_type": "execute_result"
    }
   ],
   "source": [
    "sa_traffic.loc[sa_traffic.time >= ts, :].head()"
   ]
  },
  {
   "cell_type": "code",
   "execution_count": 19,
   "metadata": {
    "colab": {
     "base_uri": "https://localhost:8080/",
     "height": 34
    },
    "id": "87xL1TSSnEds",
    "outputId": "7a3b7700-6a1f-4305-b811-e9608f5925fd"
   },
   "outputs": [
    {
     "data": {
      "text/plain": [
       "Timestamp('2021-01-04 23:59:00')"
      ]
     },
     "execution_count": 19,
     "metadata": {},
     "output_type": "execute_result"
    }
   ],
   "source": [
    "sa_traffic.time.max()"
   ]
  },
  {
   "cell_type": "code",
   "execution_count": 20,
   "metadata": {
    "colab": {
     "base_uri": "https://localhost:8080/",
     "height": 34
    },
    "id": "pQDV45vfnNyR",
    "outputId": "41c621e9-ba34-4a1b-aace-a332aa341867"
   },
   "outputs": [
    {
     "data": {
      "text/plain": [
       "Timedelta('0 days 23:59:00')"
      ]
     },
     "execution_count": 20,
     "metadata": {},
     "output_type": "execute_result"
    }
   ],
   "source": [
    "sa_traffic.time.max() - sa_traffic.time.min()"
   ]
  },
  {
   "cell_type": "code",
   "execution_count": 21,
   "metadata": {
    "colab": {
     "base_uri": "https://localhost:8080/",
     "height": 34
    },
    "id": "9GwQukPanXJG",
    "outputId": "1302173a-ef72-45f0-da0d-e536435293d1"
   },
   "outputs": [
    {
     "data": {
      "text/plain": [
       "Timedelta('0 days 23:59:00')"
      ]
     },
     "execution_count": 21,
     "metadata": {},
     "output_type": "execute_result"
    }
   ],
   "source": [
    "(sa_traffic.time.max() - sa_traffic.time.min())"
   ]
  },
  {
   "cell_type": "markdown",
   "metadata": {
    "id": "BGe8LgGhnsX7"
   },
   "source": [
    "## Plotting"
   ]
  },
  {
   "cell_type": "code",
   "execution_count": 22,
   "metadata": {
    "id": "Dzyv-gA3nx2m"
   },
   "outputs": [],
   "source": [
    "%matplotlib inline"
   ]
  },
  {
   "cell_type": "code",
   "execution_count": 23,
   "metadata": {
    "colab": {
     "base_uri": "https://localhost:8080/",
     "height": 289
    },
    "id": "GvwXaW6ho4N0",
    "outputId": "11050708-018b-49a6-e1c9-0016a86305b6"
   },
   "outputs": [
    {
     "data": {
      "text/html": [
       "<div>\n",
       "<style scoped>\n",
       "    .dataframe tbody tr th:only-of-type {\n",
       "        vertical-align: middle;\n",
       "    }\n",
       "\n",
       "    .dataframe tbody tr th {\n",
       "        vertical-align: top;\n",
       "    }\n",
       "\n",
       "    .dataframe thead th {\n",
       "        text-align: right;\n",
       "    }\n",
       "</style>\n",
       "<table border=\"1\" class=\"dataframe\">\n",
       "  <thead>\n",
       "    <tr style=\"text-align: right;\">\n",
       "      <th></th>\n",
       "      <th>date</th>\n",
       "      <th>time</th>\n",
       "      <th>location</th>\n",
       "      <th>substation</th>\n",
       "      <th>subject_age</th>\n",
       "      <th>subject_sex</th>\n",
       "      <th>violation</th>\n",
       "      <th>subject_race</th>\n",
       "    </tr>\n",
       "  </thead>\n",
       "  <tbody>\n",
       "    <tr>\n",
       "      <th>0</th>\n",
       "      <td>2015-04-03</td>\n",
       "      <td>2021-01-04 20:35:00</td>\n",
       "      <td>31       RUE CHARLES</td>\n",
       "      <td>NORTH</td>\n",
       "      <td>24.000</td>\n",
       "      <td>male</td>\n",
       "      <td>FAILURE TO DISPLAY VALID REGISTRATION INSIGNIA...</td>\n",
       "      <td>white</td>\n",
       "    </tr>\n",
       "    <tr>\n",
       "      <th>1</th>\n",
       "      <td>2014-08-10</td>\n",
       "      <td>2021-01-04 09:55:00</td>\n",
       "      <td>FRONTAGE RD 16</td>\n",
       "      <td>SOUTH</td>\n",
       "      <td>35.782</td>\n",
       "      <td>male</td>\n",
       "      <td>5-11 UNLAWFULLY SELLING AN ANIMAL AT ANOUTDOOR...</td>\n",
       "      <td>unknown</td>\n",
       "    </tr>\n",
       "    <tr>\n",
       "      <th>2</th>\n",
       "      <td>2014-11-01</td>\n",
       "      <td>2021-01-04 15:00:00</td>\n",
       "      <td>1900     DAKOTA</td>\n",
       "      <td>EAST</td>\n",
       "      <td>48.000</td>\n",
       "      <td>male</td>\n",
       "      <td>5-150 VIOLATING ANIMAL NUISANCE REQUIREMENTS</td>\n",
       "      <td>hispanic</td>\n",
       "    </tr>\n",
       "    <tr>\n",
       "      <th>3</th>\n",
       "      <td>2014-02-14</td>\n",
       "      <td>2021-01-04 20:24:00</td>\n",
       "      <td>5439     ENCANTA</td>\n",
       "      <td>NORTH</td>\n",
       "      <td>40.000</td>\n",
       "      <td>female</td>\n",
       "      <td>5-100 FAILURE TO COMPLY WITH DOG AND CATLICENS...</td>\n",
       "      <td>white</td>\n",
       "    </tr>\n",
       "    <tr>\n",
       "      <th>4</th>\n",
       "      <td>2014-11-03</td>\n",
       "      <td>2021-01-04 16:30:00</td>\n",
       "      <td>5530     HAVENCREST</td>\n",
       "      <td>SOUTH</td>\n",
       "      <td>44.000</td>\n",
       "      <td>male</td>\n",
       "      <td>5-125 VIOLATING RABIES VACCINATION REQUIREMENT</td>\n",
       "      <td>hispanic</td>\n",
       "    </tr>\n",
       "  </tbody>\n",
       "</table>\n",
       "</div>"
      ],
      "text/plain": [
       "         date                time              location substation  \\\n",
       "0  2015-04-03 2021-01-04 20:35:00  31       RUE CHARLES      NORTH   \n",
       "1  2014-08-10 2021-01-04 09:55:00        FRONTAGE RD 16      SOUTH   \n",
       "2  2014-11-01 2021-01-04 15:00:00       1900     DAKOTA       EAST   \n",
       "3  2014-02-14 2021-01-04 20:24:00      5439     ENCANTA      NORTH   \n",
       "4  2014-11-03 2021-01-04 16:30:00   5530     HAVENCREST      SOUTH   \n",
       "\n",
       "   subject_age subject_sex                                          violation  \\\n",
       "0       24.000        male  FAILURE TO DISPLAY VALID REGISTRATION INSIGNIA...   \n",
       "1       35.782        male  5-11 UNLAWFULLY SELLING AN ANIMAL AT ANOUTDOOR...   \n",
       "2       48.000        male       5-150 VIOLATING ANIMAL NUISANCE REQUIREMENTS   \n",
       "3       40.000      female  5-100 FAILURE TO COMPLY WITH DOG AND CATLICENS...   \n",
       "4       44.000        male     5-125 VIOLATING RABIES VACCINATION REQUIREMENT   \n",
       "\n",
       "  subject_race  \n",
       "0        white  \n",
       "1      unknown  \n",
       "2     hispanic  \n",
       "3        white  \n",
       "4     hispanic  "
      ]
     },
     "execution_count": 23,
     "metadata": {},
     "output_type": "execute_result"
    }
   ],
   "source": [
    "sa_traffic.head()"
   ]
  },
  {
   "cell_type": "code",
   "execution_count": 24,
   "metadata": {
    "colab": {
     "base_uri": "https://localhost:8080/",
     "height": 285
    },
    "id": "vA_x5xsznuYM",
    "outputId": "33408b8a-276e-4ae3-d376-3e9626f44f5d"
   },
   "outputs": [
    {
     "data": {
      "image/png": "[encoded data removed]",
      "text/plain": [
       "<Figure size 432x288 with 1 Axes>"
      ]
     },
     "metadata": {
      "needs_background": "light"
     },
     "output_type": "display_data"
    }
   ],
   "source": [
    "subStation_vals = sa_traffic.substation.value_counts() # Provide a pandas series of the count of substations\n",
    "\n",
    "# The chart should display the proportion of substations in the subStation_vals\n",
    "\n",
    "(subStation_vals/sa_traffic.shape[0]).plot(kind=\"bar\");\n",
    "plt.title(\"Which substation recorded the most traffic stops\");"
   ]
  },
  {
   "cell_type": "code",
   "execution_count": 25,
   "metadata": {
    "colab": {
     "base_uri": "https://localhost:8080/",
     "height": 283
    },
    "id": "vaucOTmtfhzX",
    "outputId": "797570a8-4d89-48f1-88b1-58cde16b4118"
   },
   "outputs": [
    {
     "data": {
      "image/png": "[encoded data removed]",
      "text/plain": [
       "<Figure size 432x288 with 1 Axes>"
      ]
     },
     "metadata": {
      "needs_background": "light"
     },
     "output_type": "display_data"
    }
   ],
   "source": [
    "location_vals = sa_traffic.location.value_counts() # Provide a pandas series of the count of locations\n",
    "\n",
    "# The chart should display the proportion of the top 10 locations in the location_vals\n",
    "\n",
    "(location_vals[:10]/sa_traffic.shape[0]).plot(kind=\"bar\");\n",
    "plt.title(\"Which location recorded the most traffic stops\");"
   ]
  },
  {
   "cell_type": "code",
   "execution_count": 26,
   "metadata": {
    "colab": {
     "base_uri": "https://localhost:8080/",
     "height": 282
    },
    "id": "zSlEC93HfGj5",
    "outputId": "5cd00936-a5e5-454e-949d-f418160abeb8"
   },
   "outputs": [
    {
     "data": {
      "image/png": "[encoded data removed]",
      "text/plain": [
       "<Figure size 432x288 with 1 Axes>"
      ]
     },
     "metadata": {
      "needs_background": "light"
     },
     "output_type": "display_data"
    }
   ],
   "source": [
    "# The chart should display the proportion of age issued a violation\n",
    "\n",
    "sa_traffic['subject_age'].hist();\n",
    "plt.title(\"Which age was recorded the most during traffic stops\");"
   ]
  },
  {
   "cell_type": "code",
   "execution_count": 27,
   "metadata": {},
   "outputs": [
    {
     "data": {
      "text/plain": [
       "0   23.000\n",
       "dtype: float64"
      ]
     },
     "execution_count": 27,
     "metadata": {},
     "output_type": "execute_result"
    }
   ],
   "source": [
    "sa_traffic['subject_age'].mode()"
   ]
  },
  {
   "cell_type": "code",
   "execution_count": 28,
   "metadata": {},
   "outputs": [
    {
     "data": {
      "text/plain": [
       "33.0"
      ]
     },
     "execution_count": 28,
     "metadata": {},
     "output_type": "execute_result"
    }
   ],
   "source": [
    "sa_traffic['subject_age'].median()"
   ]
  },
  {
   "cell_type": "code",
   "execution_count": 29,
   "metadata": {},
   "outputs": [
    {
     "data": {
      "text/plain": [
       "35.78210407690515"
      ]
     },
     "execution_count": 29,
     "metadata": {},
     "output_type": "execute_result"
    }
   ],
   "source": [
    "sa_traffic['subject_age'].mean()"
   ]
  },
  {
   "cell_type": "code",
   "execution_count": 30,
   "metadata": {
    "colab": {
     "base_uri": "https://localhost:8080/",
     "height": 282
    },
    "id": "fAqvNtCAfRgo",
    "outputId": "c87c51e3-21f4-4b58-a441-1a32947f58fb"
   },
   "outputs": [
    {
     "data": {
      "image/png": "[encoded data removed]",
      "text/plain": [
       "<Figure size 432x288 with 1 Axes>"
      ]
     },
     "metadata": {
      "needs_background": "light"
     },
     "output_type": "display_data"
    }
   ],
   "source": [
    "#sa_traffic.subject_race.value_counts().plot()\n",
    "\n",
    "race_vals = sa_traffic.subject_race.value_counts() # Provide a pandas series of the count of respective races\n",
    "\n",
    "# The chart should display the proportion of the top 10 races in the race_vals\n",
    "\n",
    "(race_vals[:10]/sa_traffic.shape[0]).plot(kind=\"bar\");\n",
    "plt.title(\"Which race was recorded the most during traffic stops\");"
   ]
  },
  {
   "cell_type": "code",
   "execution_count": 81,
   "metadata": {},
   "outputs": [
    {
     "data": {
      "text/plain": [
       "date            316772\n",
       "time            316772\n",
       "location        316772\n",
       "substation      316772\n",
       "subject_age     316772\n",
       "subject_sex     316772\n",
       "violation       316772\n",
       "subject_race    316772\n",
       "dtype: int64"
      ]
     },
     "execution_count": 81,
     "metadata": {},
     "output_type": "execute_result"
    }
   ],
   "source": [
    "sa_traffic[(sa_traffic[\"subject_race\"] == \"hispanic\") & (sa_traffic[\"subject_sex\"] == \"male\")].count()"
   ]
  },
  {
   "cell_type": "code",
   "execution_count": 82,
   "metadata": {
    "colab": {
     "base_uri": "https://localhost:8080/",
     "height": 282
    },
    "id": "B822X1TnfYkf",
    "outputId": "625b59b9-a72e-44ed-ea94-c998dea7b4c1"
   },
   "outputs": [
    {
     "data": {
      "image/png": "[encoded data removed]",
      "text/plain": [
       "<Figure size 432x288 with 1 Axes>"
      ]
     },
     "metadata": {
      "needs_background": "light"
     },
     "output_type": "display_data"
    }
   ],
   "source": [
    "gender_vals = sa_traffic.subject_sex.value_counts() # Provide a pandas series of the count of respective gender\n",
    "\n",
    "# The chart should display the proportion of the gender in the gender_vals\n",
    "\n",
    "(gender_vals[:10]/sa_traffic.shape[0]).plot(kind=\"bar\");\n",
    "plt.title(\"Which sex was recorded the most during traffic stops\");"
   ]
  },
  {
   "cell_type": "code",
   "execution_count": 33,
   "metadata": {},
   "outputs": [
    {
     "data": {
      "text/plain": [
       "male      0.629\n",
       "female    0.368\n",
       "No Data   0.003\n",
       "Name: subject_sex, dtype: float64"
      ]
     },
     "execution_count": 33,
     "metadata": {},
     "output_type": "execute_result"
    }
   ],
   "source": [
    "gender_vals = sa_traffic.subject_sex.value_counts() # Provide a pandas series of the count of respective gender\n",
    "\n",
    "# The chart should display the proportion of the gender in the gender_vals\n",
    "\n",
    "gender_vals/sa_traffic.shape[0] - sum(sa_traffic.subject_sex.isnull())"
   ]
  },
  {
   "cell_type": "code",
   "execution_count": 34,
   "metadata": {
    "colab": {
     "base_uri": "https://localhost:8080/",
     "height": 283
    },
    "id": "rkdvaFkOf0wb",
    "outputId": "9cd9f84b-0b3e-4e98-93e3-b7ddb6f1a404"
   },
   "outputs": [
    {
     "data": {
      "image/png": "[encoded data removed]",
      "text/plain": [
       "<Figure size 432x288 with 1 Axes>"
      ]
     },
     "metadata": {
      "needs_background": "light"
     },
     "output_type": "display_data"
    }
   ],
   "source": [
    "#sa_traffic.violation.value_counts().sort_index().plot()\n",
    "\n",
    "violation_vals = sa_traffic.violation.value_counts() # Provide a pandas series of the count of respective violations\n",
    "\n",
    "# The chart should display the proportion of the top 10 violations in the violation_vals\n",
    "\n",
    "(violation_vals[:10]/sa_traffic.shape[0]).plot(kind=\"bar\");\n",
    "plt.title(\"Which violation was recorded the most during traffic stops\");"
   ]
  },
  {
   "cell_type": "code",
   "execution_count": 35,
   "metadata": {},
   "outputs": [
    {
     "data": {
      "text/html": [
       "<div>\n",
       "<style scoped>\n",
       "    .dataframe tbody tr th:only-of-type {\n",
       "        vertical-align: middle;\n",
       "    }\n",
       "\n",
       "    .dataframe tbody tr th {\n",
       "        vertical-align: top;\n",
       "    }\n",
       "\n",
       "    .dataframe thead th {\n",
       "        text-align: right;\n",
       "    }\n",
       "</style>\n",
       "<table border=\"1\" class=\"dataframe\">\n",
       "  <thead>\n",
       "    <tr style=\"text-align: right;\">\n",
       "      <th></th>\n",
       "      <th>subject_age</th>\n",
       "    </tr>\n",
       "  </thead>\n",
       "  <tbody>\n",
       "    <tr>\n",
       "      <th>count</th>\n",
       "      <td>1040428.000</td>\n",
       "    </tr>\n",
       "    <tr>\n",
       "      <th>mean</th>\n",
       "      <td>35.782</td>\n",
       "    </tr>\n",
       "    <tr>\n",
       "      <th>std</th>\n",
       "      <td>13.415</td>\n",
       "    </tr>\n",
       "    <tr>\n",
       "      <th>min</th>\n",
       "      <td>16.000</td>\n",
       "    </tr>\n",
       "    <tr>\n",
       "      <th>25%</th>\n",
       "      <td>25.000</td>\n",
       "    </tr>\n",
       "    <tr>\n",
       "      <th>50%</th>\n",
       "      <td>33.000</td>\n",
       "    </tr>\n",
       "    <tr>\n",
       "      <th>75%</th>\n",
       "      <td>45.000</td>\n",
       "    </tr>\n",
       "    <tr>\n",
       "      <th>max</th>\n",
       "      <td>110.000</td>\n",
       "    </tr>\n",
       "  </tbody>\n",
       "</table>\n",
       "</div>"
      ],
      "text/plain": [
       "       subject_age\n",
       "count  1040428.000\n",
       "mean        35.782\n",
       "std         13.415\n",
       "min         16.000\n",
       "25%         25.000\n",
       "50%         33.000\n",
       "75%         45.000\n",
       "max        110.000"
      ]
     },
     "execution_count": 35,
     "metadata": {},
     "output_type": "execute_result"
    }
   ],
   "source": [
    "# Get Continuous variables\n",
    "sa_traffic.describe()"
   ]
  },
  {
   "cell_type": "code",
   "execution_count": 36,
   "metadata": {},
   "outputs": [
    {
     "data": {
      "image/png": "[encoded data removed]",
      "text/plain": [
       "<Figure size 432x288 with 1 Axes>"
      ]
     },
     "metadata": {
      "needs_background": "light"
     },
     "output_type": "display_data"
    }
   ],
   "source": [
    "sa_traffic.hist();"
   ]
  },
  {
   "cell_type": "code",
   "execution_count": 37,
   "metadata": {},
   "outputs": [
    {
     "data": {
      "image/png": "[encoded data removed]",
      "text/plain": [
       "<Figure size 432x288 with 2 Axes>"
      ]
     },
     "metadata": {
      "needs_background": "light"
     },
     "output_type": "display_data"
    }
   ],
   "source": [
    "sns.heatmap(sa_traffic.corr(), annot=True, fmt='.2f');"
   ]
  },
  {
   "cell_type": "code",
   "execution_count": 38,
   "metadata": {},
   "outputs": [
    {
     "data": {
      "text/plain": [
       "Index(['date', 'time', 'location', 'substation', 'subject_age', 'subject_sex',\n",
       "       'violation', 'subject_race'],\n",
       "      dtype='object')"
      ]
     },
     "execution_count": 38,
     "metadata": {},
     "output_type": "execute_result"
    }
   ],
   "source": [
    "sa_traffic.columns"
   ]
  },
  {
   "cell_type": "code",
   "execution_count": 39,
   "metadata": {},
   "outputs": [
    {
     "data": {
      "text/html": [
       "<div>\n",
       "<style scoped>\n",
       "    .dataframe tbody tr th:only-of-type {\n",
       "        vertical-align: middle;\n",
       "    }\n",
       "\n",
       "    .dataframe tbody tr th {\n",
       "        vertical-align: top;\n",
       "    }\n",
       "\n",
       "    .dataframe thead th {\n",
       "        text-align: right;\n",
       "    }\n",
       "</style>\n",
       "<table border=\"1\" class=\"dataframe\">\n",
       "  <thead>\n",
       "    <tr style=\"text-align: right;\">\n",
       "      <th></th>\n",
       "      <th>date</th>\n",
       "      <th>time</th>\n",
       "      <th>location</th>\n",
       "      <th>substation</th>\n",
       "      <th>subject_age</th>\n",
       "      <th>subject_sex</th>\n",
       "      <th>violation</th>\n",
       "      <th>subject_race</th>\n",
       "    </tr>\n",
       "  </thead>\n",
       "  <tbody>\n",
       "    <tr>\n",
       "      <th>1040423</th>\n",
       "      <td>2018-04-10</td>\n",
       "      <td>2021-01-04 06:05:00</td>\n",
       "      <td>0000100N LOOP 1604 E WB AC</td>\n",
       "      <td>PRUE</td>\n",
       "      <td>51.000</td>\n",
       "      <td>male</td>\n",
       "      <td>SPEEDING-POSTED LIMIT</td>\n",
       "      <td>white</td>\n",
       "    </tr>\n",
       "    <tr>\n",
       "      <th>1040424</th>\n",
       "      <td>2018-04-10</td>\n",
       "      <td>2021-01-04 06:12:00</td>\n",
       "      <td>0000100N LOOP 1604 E WB AC</td>\n",
       "      <td>PRUE</td>\n",
       "      <td>51.000</td>\n",
       "      <td>male</td>\n",
       "      <td>SPEEDING-POSTED LIMIT</td>\n",
       "      <td>white</td>\n",
       "    </tr>\n",
       "    <tr>\n",
       "      <th>1040425</th>\n",
       "      <td>2012-04-19</td>\n",
       "      <td>2021-01-04 08:20:00</td>\n",
       "      <td>0000000  MAIN CIR</td>\n",
       "      <td>No Data</td>\n",
       "      <td>39.000</td>\n",
       "      <td>male</td>\n",
       "      <td>DISREGARD STOP SIGN|DRIVING WITHOUT PROOF OF F...</td>\n",
       "      <td>black</td>\n",
       "    </tr>\n",
       "    <tr>\n",
       "      <th>1040426</th>\n",
       "      <td>2012-04-24</td>\n",
       "      <td>2021-01-04 13:51:00</td>\n",
       "      <td>0000500  BUTTON WILLOW CV</td>\n",
       "      <td>NORTH</td>\n",
       "      <td>30.000</td>\n",
       "      <td>male</td>\n",
       "      <td>SPEEDING-POSTED LIMIT</td>\n",
       "      <td>white</td>\n",
       "    </tr>\n",
       "    <tr>\n",
       "      <th>1040427</th>\n",
       "      <td>2012-12-13</td>\n",
       "      <td>2021-01-04 10:53:00</td>\n",
       "      <td>0000000  96TH                                 ...</td>\n",
       "      <td>SOUTH</td>\n",
       "      <td>24.000</td>\n",
       "      <td>male</td>\n",
       "      <td>DISREGARD RED LIGHT|DISREGARD STOP SIGN</td>\n",
       "      <td>asian/pacific islander</td>\n",
       "    </tr>\n",
       "  </tbody>\n",
       "</table>\n",
       "</div>"
      ],
      "text/plain": [
       "               date                time  \\\n",
       "1040423  2018-04-10 2021-01-04 06:05:00   \n",
       "1040424  2018-04-10 2021-01-04 06:12:00   \n",
       "1040425  2012-04-19 2021-01-04 08:20:00   \n",
       "1040426  2012-04-24 2021-01-04 13:51:00   \n",
       "1040427  2012-12-13 2021-01-04 10:53:00   \n",
       "\n",
       "                                                  location substation  \\\n",
       "1040423                         0000100N LOOP 1604 E WB AC       PRUE   \n",
       "1040424                         0000100N LOOP 1604 E WB AC       PRUE   \n",
       "1040425                                  0000000  MAIN CIR    No Data   \n",
       "1040426                          0000500  BUTTON WILLOW CV      NORTH   \n",
       "1040427  0000000  96TH                                 ...      SOUTH   \n",
       "\n",
       "         subject_age subject_sex  \\\n",
       "1040423       51.000        male   \n",
       "1040424       51.000        male   \n",
       "1040425       39.000        male   \n",
       "1040426       30.000        male   \n",
       "1040427       24.000        male   \n",
       "\n",
       "                                                 violation  \\\n",
       "1040423                              SPEEDING-POSTED LIMIT   \n",
       "1040424                              SPEEDING-POSTED LIMIT   \n",
       "1040425  DISREGARD STOP SIGN|DRIVING WITHOUT PROOF OF F...   \n",
       "1040426                              SPEEDING-POSTED LIMIT   \n",
       "1040427            DISREGARD RED LIGHT|DISREGARD STOP SIGN   \n",
       "\n",
       "                   subject_race  \n",
       "1040423                   white  \n",
       "1040424                   white  \n",
       "1040425                   black  \n",
       "1040426                   white  \n",
       "1040427  asian/pacific islander  "
      ]
     },
     "execution_count": 39,
     "metadata": {},
     "output_type": "execute_result"
    }
   ],
   "source": [
    "sa_traffic.tail()"
   ]
  },
  {
   "cell_type": "code",
   "execution_count": 40,
   "metadata": {},
   "outputs": [],
   "source": [
    "#labelencoder_X = LabelEncoder()\n",
    "#labelencoder_X.fit_transform(sa_traffic['subject_sex'])\n"
   ]
  },
  {
   "cell_type": "code",
   "execution_count": 41,
   "metadata": {},
   "outputs": [
    {
     "data": {
      "text/html": [
       "<div>\n",
       "<style scoped>\n",
       "    .dataframe tbody tr th:only-of-type {\n",
       "        vertical-align: middle;\n",
       "    }\n",
       "\n",
       "    .dataframe tbody tr th {\n",
       "        vertical-align: top;\n",
       "    }\n",
       "\n",
       "    .dataframe thead th {\n",
       "        text-align: right;\n",
       "    }\n",
       "</style>\n",
       "<table border=\"1\" class=\"dataframe\">\n",
       "  <thead>\n",
       "    <tr style=\"text-align: right;\">\n",
       "      <th></th>\n",
       "      <th>date</th>\n",
       "      <th>time</th>\n",
       "      <th>location</th>\n",
       "      <th>substation</th>\n",
       "      <th>subject_age</th>\n",
       "      <th>subject_sex</th>\n",
       "      <th>violation</th>\n",
       "      <th>subject_race</th>\n",
       "    </tr>\n",
       "  </thead>\n",
       "  <tbody>\n",
       "    <tr>\n",
       "      <th>1040423</th>\n",
       "      <td>2018-04-10</td>\n",
       "      <td>2021-01-04 06:05:00</td>\n",
       "      <td>0000100N LOOP 1604 E WB AC</td>\n",
       "      <td>PRUE</td>\n",
       "      <td>51.000</td>\n",
       "      <td>male</td>\n",
       "      <td>SPEEDING-POSTED LIMIT</td>\n",
       "      <td>white</td>\n",
       "    </tr>\n",
       "    <tr>\n",
       "      <th>1040424</th>\n",
       "      <td>2018-04-10</td>\n",
       "      <td>2021-01-04 06:12:00</td>\n",
       "      <td>0000100N LOOP 1604 E WB AC</td>\n",
       "      <td>PRUE</td>\n",
       "      <td>51.000</td>\n",
       "      <td>male</td>\n",
       "      <td>SPEEDING-POSTED LIMIT</td>\n",
       "      <td>white</td>\n",
       "    </tr>\n",
       "    <tr>\n",
       "      <th>1040425</th>\n",
       "      <td>2012-04-19</td>\n",
       "      <td>2021-01-04 08:20:00</td>\n",
       "      <td>0000000  MAIN CIR</td>\n",
       "      <td>No Data</td>\n",
       "      <td>39.000</td>\n",
       "      <td>male</td>\n",
       "      <td>DISREGARD STOP SIGN|DRIVING WITHOUT PROOF OF F...</td>\n",
       "      <td>black</td>\n",
       "    </tr>\n",
       "    <tr>\n",
       "      <th>1040426</th>\n",
       "      <td>2012-04-24</td>\n",
       "      <td>2021-01-04 13:51:00</td>\n",
       "      <td>0000500  BUTTON WILLOW CV</td>\n",
       "      <td>NORTH</td>\n",
       "      <td>30.000</td>\n",
       "      <td>male</td>\n",
       "      <td>SPEEDING-POSTED LIMIT</td>\n",
       "      <td>white</td>\n",
       "    </tr>\n",
       "    <tr>\n",
       "      <th>1040427</th>\n",
       "      <td>2012-12-13</td>\n",
       "      <td>2021-01-04 10:53:00</td>\n",
       "      <td>0000000  96TH                                 ...</td>\n",
       "      <td>SOUTH</td>\n",
       "      <td>24.000</td>\n",
       "      <td>male</td>\n",
       "      <td>DISREGARD RED LIGHT|DISREGARD STOP SIGN</td>\n",
       "      <td>asian/pacific islander</td>\n",
       "    </tr>\n",
       "  </tbody>\n",
       "</table>\n",
       "</div>"
      ],
      "text/plain": [
       "               date                time  \\\n",
       "1040423  2018-04-10 2021-01-04 06:05:00   \n",
       "1040424  2018-04-10 2021-01-04 06:12:00   \n",
       "1040425  2012-04-19 2021-01-04 08:20:00   \n",
       "1040426  2012-04-24 2021-01-04 13:51:00   \n",
       "1040427  2012-12-13 2021-01-04 10:53:00   \n",
       "\n",
       "                                                  location substation  \\\n",
       "1040423                         0000100N LOOP 1604 E WB AC       PRUE   \n",
       "1040424                         0000100N LOOP 1604 E WB AC       PRUE   \n",
       "1040425                                  0000000  MAIN CIR    No Data   \n",
       "1040426                          0000500  BUTTON WILLOW CV      NORTH   \n",
       "1040427  0000000  96TH                                 ...      SOUTH   \n",
       "\n",
       "         subject_age subject_sex  \\\n",
       "1040423       51.000        male   \n",
       "1040424       51.000        male   \n",
       "1040425       39.000        male   \n",
       "1040426       30.000        male   \n",
       "1040427       24.000        male   \n",
       "\n",
       "                                                 violation  \\\n",
       "1040423                              SPEEDING-POSTED LIMIT   \n",
       "1040424                              SPEEDING-POSTED LIMIT   \n",
       "1040425  DISREGARD STOP SIGN|DRIVING WITHOUT PROOF OF F...   \n",
       "1040426                              SPEEDING-POSTED LIMIT   \n",
       "1040427            DISREGARD RED LIGHT|DISREGARD STOP SIGN   \n",
       "\n",
       "                   subject_race  \n",
       "1040423                   white  \n",
       "1040424                   white  \n",
       "1040425                   black  \n",
       "1040426                   white  \n",
       "1040427  asian/pacific islander  "
      ]
     },
     "execution_count": 41,
     "metadata": {},
     "output_type": "execute_result"
    }
   ],
   "source": [
    "sa_traffic.tail()"
   ]
  },
  {
   "cell_type": "code",
   "execution_count": 64,
   "metadata": {},
   "outputs": [
    {
     "data": {
      "text/plain": [
       "hispanic                  511917\n",
       "white                     387629\n",
       "black                     103135\n",
       "other                      23996\n",
       "asian/pacific islander     10507\n",
       "unknown                     2978\n",
       "No Data                      266\n",
       "Name: subject_race, dtype: int64"
      ]
     },
     "execution_count": 64,
     "metadata": {},
     "output_type": "execute_result"
    }
   ],
   "source": [
    "#sa_traffic.groupby(\"subject_race\").size()\n",
    "sa_traffic[\"subject_race\"].value_counts()"
   ]
  },
  {
   "cell_type": "code",
   "execution_count": 90,
   "metadata": {},
   "outputs": [
    {
     "data": {
      "text/plain": [
       "'2012-01-01'"
      ]
     },
     "execution_count": 90,
     "metadata": {},
     "output_type": "execute_result"
    }
   ],
   "source": [
    "sa_traffic.date.min()"
   ]
  },
  {
   "cell_type": "code",
   "execution_count": null,
   "metadata": {},
   "outputs": [],
   "source": []
  }
 ],
 "metadata": {
  "colab": {
   "authorship_tag": "ABX9TyPTGI4Je1fEvmNCYAqYR4TY",
   "collapsed_sections": [
    "VK4qngodhSoq",
    "9l2FYWL7hZ-K",
    "YGnD6eR1nqY3",
    "jP_yTM5DhkMI",
    "meaD2a83me5K",
    "BGe8LgGhnsX7"
   ],
   "include_colab_link": true,
   "name": "SA_Traffic_Stop.ipynb",
   "provenance": []
  },
  "kernelspec": {
   "display_name": "Python 3",
   "language": "python",
   "name": "python3"
  },
  "language_info": {
   "codemirror_mode": {
    "name": "ipython",
    "version": 3
   },
   "file_extension": ".py",
   "mimetype": "text/x-python",
   "name": "python",
   "nbconvert_exporter": "python",
   "pygments_lexer": "ipython3",
   "version": "3.8.3"
  }
 },
 "nbformat": 4,
 "nbformat_minor": 1
}
