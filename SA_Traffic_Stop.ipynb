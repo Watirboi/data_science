{
  "nbformat": 4,
  "nbformat_minor": 0,
  "metadata": {
    "colab": {
      "name": "SA_Traffic_Stop.ipynb",
      "provenance": [],
      "collapsed_sections": [
        "VK4qngodhSoq",
        "9l2FYWL7hZ-K",
        "YGnD6eR1nqY3",
        "jP_yTM5DhkMI",
        "meaD2a83me5K",
        "BGe8LgGhnsX7"
      ],
      "authorship_tag": "ABX9TyPTGI4Je1fEvmNCYAqYR4TY",
      "include_colab_link": true
    },
    "kernelspec": {
      "name": "python3",
      "display_name": "Python 3"
    }
  },
  "cells": [
    {
      "cell_type": "markdown",
      "metadata": {
        "id": "view-in-github",
        "colab_type": "text"
      },
      "source": [
        "<a href=\"https://colab.research.google.com/github/Watirboi/data_science/blob/main/SA_Traffic_Stop.ipynb\" target=\"_parent\"><img src=\"https://colab.research.google.com/assets/colab-badge.svg\" alt=\"Open In Colab\"/></a>"
      ]
    },
    {
      "cell_type": "markdown",
      "metadata": {
        "id": "KxR9NjZ-j-cC"
      },
      "source": [
        "# Working with dates and times in pandas"
      ]
    },
    {
      "cell_type": "markdown",
      "metadata": {
        "id": "VK4qngodhSoq"
      },
      "source": [
        "## Import Libraries"
      ]
    },
    {
      "cell_type": "code",
      "metadata": {
        "id": "qwpOgu9Pj8eG"
      },
      "source": [
        "import pandas as pd\n",
        "import numpy as np"
      ],
      "execution_count": null,
      "outputs": []
    },
    {
      "cell_type": "markdown",
      "metadata": {
        "id": "9l2FYWL7hZ-K"
      },
      "source": [
        "## Load Datasets"
      ]
    },
    {
      "cell_type": "code",
      "metadata": {
        "id": "K2CK4-mWkMMz"
      },
      "source": [
        "filename = 'tx_san_antonio_2020_04_01.csv'\n",
        "names = ['date','time','location','substation','subject_age','subject_sex','violation','subject_race']\n",
        "sa_traffic = pd.read_csv(filename, header=0, usecols=names)\n",
        "sa_traffic = sa_traffic.reindex(columns=names)"
      ],
      "execution_count": null,
      "outputs": []
    },
    {
      "cell_type": "markdown",
      "metadata": {
        "id": "YGnD6eR1nqY3"
      },
      "source": [
        "## Taking Care of missing data"
      ]
    },
    {
      "cell_type": "code",
      "metadata": {
        "id": "aFtYKqmHq7jm",
        "colab": {
          "base_uri": "https://localhost:8080/",
          "height": 187
        },
        "outputId": "d2dab50f-0de1-4af1-ac06-d3bce04ab527"
      },
      "source": [
        "# missing data counts\n",
        "print(print(sa_traffic.isnull().sum()))"
      ],
      "execution_count": null,
      "outputs": [
        {
          "output_type": "stream",
          "text": [
            "date                0\n",
            "time                1\n",
            "location            3\n",
            "substation      79420\n",
            "subject_age      1331\n",
            "subject_sex      2796\n",
            "violation           7\n",
            "subject_race      266\n",
            "dtype: int64\n",
            "None\n"
          ],
          "name": "stdout"
        }
      ]
    },
    {
      "cell_type": "code",
      "metadata": {
        "id": "NC5FO2W8-4Su",
        "colab": {
          "base_uri": "https://localhost:8080/",
          "height": 170
        },
        "outputId": "573a6f19-8bd8-4aa3-9898-59b1ce8af3ee"
      },
      "source": [
        "print(sa_traffic.dtypes)"
      ],
      "execution_count": null,
      "outputs": [
        {
          "output_type": "stream",
          "text": [
            "date             object\n",
            "time             object\n",
            "location         object\n",
            "substation       object\n",
            "subject_age     float64\n",
            "subject_sex      object\n",
            "violation        object\n",
            "subject_race     object\n",
            "dtype: object\n"
          ],
          "name": "stdout"
        }
      ]
    },
    {
      "cell_type": "code",
      "metadata": {
        "id": "XjwgMthxp_zd"
      },
      "source": [
        "from sklearn.impute import SimpleImputer\n",
        "# handle string date column\n",
        "s_imputer = SimpleImputer(missing_values=np.nan, strategy='constant', fill_value='No Data') # string or object values\n",
        "s_imputer.fit(sa_traffic.iloc[:, 0:1])\n",
        "sa_traffic.iloc[:, 0:1] = s_imputer.transform(sa_traffic.iloc[:, 0:1])\n",
        "\n",
        "# handle string time column\n",
        "s_time_imputer = SimpleImputer(missing_values=np.nan, strategy='constant', fill_value='00:00:00')\n",
        "s_time_imputer.fit(sa_traffic.iloc[:, 1:2]) \n",
        "sa_traffic.iloc[:, 1:2] = s_time_imputer.transform(sa_traffic.iloc[:, 1:2])\n",
        "\n",
        "# handle string ['location','substation'] columns\n",
        "s_imputer = SimpleImputer(missing_values=np.nan, strategy='constant', fill_value='No Data')\n",
        "s_imputer.fit(sa_traffic.iloc[:, 2:4]) \n",
        "sa_traffic.iloc[:, 2:4] = s_imputer.transform(sa_traffic.iloc[:, 2:4])\n",
        "\n",
        "s_subject_age_imputer = SimpleImputer(missing_values=np.nan, strategy='mean') # only numerical values\n",
        "s_subject_age_imputer.fit(sa_traffic.iloc[:, 4:5]) \n",
        "sa_traffic.iloc[:, 4:5] = s_subject_age_imputer.transform(sa_traffic.iloc[:, 4:5])\n",
        "\n",
        "s_imputer.fit(sa_traffic.iloc[:, 5:8])\n",
        "sa_traffic.iloc[:, 5:8] = s_imputer.transform(sa_traffic.iloc[:, 5:8])"
      ],
      "execution_count": null,
      "outputs": []
    },
    {
      "cell_type": "code",
      "metadata": {
        "id": "7UWj3ugNXv3A",
        "colab": {
          "base_uri": "https://localhost:8080/",
          "height": 221
        },
        "outputId": "d21e59fd-5580-4d6c-8368-01ec13c1e04b"
      },
      "source": [
        "pd.to_datetime(sa_traffic['date'] + ' ' + sa_traffic['time'])"
      ],
      "execution_count": null,
      "outputs": [
        {
          "output_type": "execute_result",
          "data": {
            "text/plain": [
              "0         2015-04-03 20:35:00\n",
              "1         2014-08-10 09:55:00\n",
              "2         2014-11-01 15:00:00\n",
              "3         2014-02-14 20:24:00\n",
              "4         2014-11-03 16:30:00\n",
              "                  ...        \n",
              "1040423   2018-04-10 06:05:00\n",
              "1040424   2018-04-10 06:12:00\n",
              "1040425   2012-04-19 08:20:00\n",
              "1040426   2012-04-24 13:51:00\n",
              "1040427   2012-12-13 10:53:00\n",
              "Length: 1040428, dtype: datetime64[ns]"
            ]
          },
          "metadata": {
            "tags": []
          },
          "execution_count": 50
        }
      ]
    },
    {
      "cell_type": "code",
      "metadata": {
        "id": "gpGAOH1oUUOp",
        "colab": {
          "base_uri": "https://localhost:8080/",
          "height": 187
        },
        "outputId": "99b64bcb-fe17-4577-ea6c-0c274c667d1f"
      },
      "source": [
        "# Verify no nulls remain\n",
        "print(print(sa_traffic.isnull().sum()))"
      ],
      "execution_count": null,
      "outputs": [
        {
          "output_type": "stream",
          "text": [
            "date            0\n",
            "time            0\n",
            "location        0\n",
            "substation      0\n",
            "subject_age     0\n",
            "subject_sex     0\n",
            "violation       0\n",
            "subject_race    0\n",
            "dtype: int64\n",
            "None\n"
          ],
          "name": "stdout"
        }
      ]
    },
    {
      "cell_type": "markdown",
      "metadata": {
        "id": "jP_yTM5DhkMI"
      },
      "source": [
        "## Dataset Evaluation"
      ]
    },
    {
      "cell_type": "code",
      "metadata": {
        "id": "uLy6TXoUkUOS",
        "colab": {
          "base_uri": "https://localhost:8080/",
          "height": 289
        },
        "outputId": "0459468f-4139-44d0-e5b0-2520617cd994"
      },
      "source": [
        "sa_traffic.head()"
      ],
      "execution_count": null,
      "outputs": [
        {
          "output_type": "execute_result",
          "data": {
            "text/html": [
              "<div>\n",
              "<style scoped>\n",
              "    .dataframe tbody tr th:only-of-type {\n",
              "        vertical-align: middle;\n",
              "    }\n",
              "\n",
              "    .dataframe tbody tr th {\n",
              "        vertical-align: top;\n",
              "    }\n",
              "\n",
              "    .dataframe thead th {\n",
              "        text-align: right;\n",
              "    }\n",
              "</style>\n",
              "<table border=\"1\" class=\"dataframe\">\n",
              "  <thead>\n",
              "    <tr style=\"text-align: right;\">\n",
              "      <th></th>\n",
              "      <th>date</th>\n",
              "      <th>time</th>\n",
              "      <th>location</th>\n",
              "      <th>substation</th>\n",
              "      <th>subject_age</th>\n",
              "      <th>subject_sex</th>\n",
              "      <th>violation</th>\n",
              "      <th>subject_race</th>\n",
              "    </tr>\n",
              "  </thead>\n",
              "  <tbody>\n",
              "    <tr>\n",
              "      <th>0</th>\n",
              "      <td>2015-04-03</td>\n",
              "      <td>20:35:00</td>\n",
              "      <td>31       RUE CHARLES</td>\n",
              "      <td>NORTH</td>\n",
              "      <td>24.000000</td>\n",
              "      <td>male</td>\n",
              "      <td>FAILURE TO DISPLAY VALID REGISTRATION INSIGNIA...</td>\n",
              "      <td>white</td>\n",
              "    </tr>\n",
              "    <tr>\n",
              "      <th>1</th>\n",
              "      <td>2014-08-10</td>\n",
              "      <td>09:55:00</td>\n",
              "      <td>FRONTAGE RD 16</td>\n",
              "      <td>SOUTH</td>\n",
              "      <td>35.782104</td>\n",
              "      <td>male</td>\n",
              "      <td>5-11 UNLAWFULLY SELLING AN ANIMAL AT ANOUTDOOR...</td>\n",
              "      <td>unknown</td>\n",
              "    </tr>\n",
              "    <tr>\n",
              "      <th>2</th>\n",
              "      <td>2014-11-01</td>\n",
              "      <td>15:00:00</td>\n",
              "      <td>1900     DAKOTA</td>\n",
              "      <td>EAST</td>\n",
              "      <td>48.000000</td>\n",
              "      <td>male</td>\n",
              "      <td>5-150 VIOLATING ANIMAL NUISANCE REQUIREMENTS</td>\n",
              "      <td>hispanic</td>\n",
              "    </tr>\n",
              "    <tr>\n",
              "      <th>3</th>\n",
              "      <td>2014-02-14</td>\n",
              "      <td>20:24:00</td>\n",
              "      <td>5439     ENCANTA</td>\n",
              "      <td>NORTH</td>\n",
              "      <td>40.000000</td>\n",
              "      <td>female</td>\n",
              "      <td>5-100 FAILURE TO COMPLY WITH DOG AND CATLICENS...</td>\n",
              "      <td>white</td>\n",
              "    </tr>\n",
              "    <tr>\n",
              "      <th>4</th>\n",
              "      <td>2014-11-03</td>\n",
              "      <td>16:30:00</td>\n",
              "      <td>5530     HAVENCREST</td>\n",
              "      <td>SOUTH</td>\n",
              "      <td>44.000000</td>\n",
              "      <td>male</td>\n",
              "      <td>5-125 VIOLATING RABIES VACCINATION REQUIREMENT</td>\n",
              "      <td>hispanic</td>\n",
              "    </tr>\n",
              "  </tbody>\n",
              "</table>\n",
              "</div>"
            ],
            "text/plain": [
              "         date  ... subject_race\n",
              "0  2015-04-03  ...        white\n",
              "1  2014-08-10  ...      unknown\n",
              "2  2014-11-01  ...     hispanic\n",
              "3  2014-02-14  ...        white\n",
              "4  2014-11-03  ...     hispanic\n",
              "\n",
              "[5 rows x 8 columns]"
            ]
          },
          "metadata": {
            "tags": []
          },
          "execution_count": 52
        }
      ]
    },
    {
      "cell_type": "code",
      "metadata": {
        "id": "XY1E36TmknD7",
        "colab": {
          "base_uri": "https://localhost:8080/",
          "height": 170
        },
        "outputId": "055512e8-734e-4062-dee9-48545a01d06d"
      },
      "source": [
        "sa_traffic.dtypes"
      ],
      "execution_count": null,
      "outputs": [
        {
          "output_type": "execute_result",
          "data": {
            "text/plain": [
              "date             object\n",
              "time             object\n",
              "location         object\n",
              "substation       object\n",
              "subject_age     float64\n",
              "subject_sex      object\n",
              "violation        object\n",
              "subject_race     object\n",
              "dtype: object"
            ]
          },
          "metadata": {
            "tags": []
          },
          "execution_count": 53
        }
      ]
    },
    {
      "cell_type": "code",
      "metadata": {
        "id": "8cColf2qlMJ1",
        "colab": {
          "base_uri": "https://localhost:8080/",
          "height": 119
        },
        "outputId": "b4ae5ba6-a885-44cc-ac40-9c9286c36acf"
      },
      "source": [
        "# 8 characters from the end to 6 characters from the end\n",
        "# this is quite a chore\n",
        "sa_traffic.time.str.slice(-8, -6).astype(int).head()"
      ],
      "execution_count": null,
      "outputs": [
        {
          "output_type": "execute_result",
          "data": {
            "text/plain": [
              "0    20\n",
              "1     9\n",
              "2    15\n",
              "3    20\n",
              "4    16\n",
              "Name: time, dtype: int64"
            ]
          },
          "metadata": {
            "tags": []
          },
          "execution_count": 54
        }
      ]
    },
    {
      "cell_type": "code",
      "metadata": {
        "id": "1ar2CV9YlqPg",
        "colab": {
          "base_uri": "https://localhost:8080/",
          "height": 289
        },
        "outputId": "814a45af-8161-4d4f-9248-97b0b1fcf916"
      },
      "source": [
        "# we will convert the Time column to datatime format\n",
        "# there are many options to ensure this works well with your data\n",
        "sa_traffic['time'] = pd.to_datetime(sa_traffic.time)\n",
        "sa_traffic.head()"
      ],
      "execution_count": null,
      "outputs": [
        {
          "output_type": "execute_result",
          "data": {
            "text/html": [
              "<div>\n",
              "<style scoped>\n",
              "    .dataframe tbody tr th:only-of-type {\n",
              "        vertical-align: middle;\n",
              "    }\n",
              "\n",
              "    .dataframe tbody tr th {\n",
              "        vertical-align: top;\n",
              "    }\n",
              "\n",
              "    .dataframe thead th {\n",
              "        text-align: right;\n",
              "    }\n",
              "</style>\n",
              "<table border=\"1\" class=\"dataframe\">\n",
              "  <thead>\n",
              "    <tr style=\"text-align: right;\">\n",
              "      <th></th>\n",
              "      <th>date</th>\n",
              "      <th>time</th>\n",
              "      <th>location</th>\n",
              "      <th>substation</th>\n",
              "      <th>subject_age</th>\n",
              "      <th>subject_sex</th>\n",
              "      <th>violation</th>\n",
              "      <th>subject_race</th>\n",
              "    </tr>\n",
              "  </thead>\n",
              "  <tbody>\n",
              "    <tr>\n",
              "      <th>0</th>\n",
              "      <td>2015-04-03</td>\n",
              "      <td>2020-10-17 20:35:00</td>\n",
              "      <td>31       RUE CHARLES</td>\n",
              "      <td>NORTH</td>\n",
              "      <td>24.000000</td>\n",
              "      <td>male</td>\n",
              "      <td>FAILURE TO DISPLAY VALID REGISTRATION INSIGNIA...</td>\n",
              "      <td>white</td>\n",
              "    </tr>\n",
              "    <tr>\n",
              "      <th>1</th>\n",
              "      <td>2014-08-10</td>\n",
              "      <td>2020-10-17 09:55:00</td>\n",
              "      <td>FRONTAGE RD 16</td>\n",
              "      <td>SOUTH</td>\n",
              "      <td>35.782104</td>\n",
              "      <td>male</td>\n",
              "      <td>5-11 UNLAWFULLY SELLING AN ANIMAL AT ANOUTDOOR...</td>\n",
              "      <td>unknown</td>\n",
              "    </tr>\n",
              "    <tr>\n",
              "      <th>2</th>\n",
              "      <td>2014-11-01</td>\n",
              "      <td>2020-10-17 15:00:00</td>\n",
              "      <td>1900     DAKOTA</td>\n",
              "      <td>EAST</td>\n",
              "      <td>48.000000</td>\n",
              "      <td>male</td>\n",
              "      <td>5-150 VIOLATING ANIMAL NUISANCE REQUIREMENTS</td>\n",
              "      <td>hispanic</td>\n",
              "    </tr>\n",
              "    <tr>\n",
              "      <th>3</th>\n",
              "      <td>2014-02-14</td>\n",
              "      <td>2020-10-17 20:24:00</td>\n",
              "      <td>5439     ENCANTA</td>\n",
              "      <td>NORTH</td>\n",
              "      <td>40.000000</td>\n",
              "      <td>female</td>\n",
              "      <td>5-100 FAILURE TO COMPLY WITH DOG AND CATLICENS...</td>\n",
              "      <td>white</td>\n",
              "    </tr>\n",
              "    <tr>\n",
              "      <th>4</th>\n",
              "      <td>2014-11-03</td>\n",
              "      <td>2020-10-17 16:30:00</td>\n",
              "      <td>5530     HAVENCREST</td>\n",
              "      <td>SOUTH</td>\n",
              "      <td>44.000000</td>\n",
              "      <td>male</td>\n",
              "      <td>5-125 VIOLATING RABIES VACCINATION REQUIREMENT</td>\n",
              "      <td>hispanic</td>\n",
              "    </tr>\n",
              "  </tbody>\n",
              "</table>\n",
              "</div>"
            ],
            "text/plain": [
              "         date  ... subject_race\n",
              "0  2015-04-03  ...        white\n",
              "1  2014-08-10  ...      unknown\n",
              "2  2014-11-01  ...     hispanic\n",
              "3  2014-02-14  ...        white\n",
              "4  2014-11-03  ...     hispanic\n",
              "\n",
              "[5 rows x 8 columns]"
            ]
          },
          "metadata": {
            "tags": []
          },
          "execution_count": 55
        }
      ]
    },
    {
      "cell_type": "code",
      "metadata": {
        "id": "LoSHyE5Bl8A6",
        "colab": {
          "base_uri": "https://localhost:8080/",
          "height": 170
        },
        "outputId": "a83cb601-8b34-4468-d10a-608276b7d2fd"
      },
      "source": [
        "sa_traffic.dtypes"
      ],
      "execution_count": null,
      "outputs": [
        {
          "output_type": "execute_result",
          "data": {
            "text/plain": [
              "date                    object\n",
              "time            datetime64[ns]\n",
              "location                object\n",
              "substation              object\n",
              "subject_age            float64\n",
              "subject_sex             object\n",
              "violation               object\n",
              "subject_race            object\n",
              "dtype: object"
            ]
          },
          "metadata": {
            "tags": []
          },
          "execution_count": 56
        }
      ]
    },
    {
      "cell_type": "code",
      "metadata": {
        "id": "s0-XWm6HmNWo",
        "colab": {
          "base_uri": "https://localhost:8080/",
          "height": 119
        },
        "outputId": "db0945b8-2c29-4437-98d0-d993f48f1d52"
      },
      "source": [
        "sa_traffic.time.dt.hour.head()"
      ],
      "execution_count": null,
      "outputs": [
        {
          "output_type": "execute_result",
          "data": {
            "text/plain": [
              "0    20\n",
              "1     9\n",
              "2    15\n",
              "3    20\n",
              "4    16\n",
              "Name: time, dtype: int64"
            ]
          },
          "metadata": {
            "tags": []
          },
          "execution_count": 57
        }
      ]
    },
    {
      "cell_type": "code",
      "metadata": {
        "id": "55Y-teBemRQs",
        "colab": {
          "base_uri": "https://localhost:8080/",
          "height": 119
        },
        "outputId": "6b3d6080-4527-4475-808b-13679658e615"
      },
      "source": [
        "sa_traffic.time.dt.weekday.head()"
      ],
      "execution_count": null,
      "outputs": [
        {
          "output_type": "execute_result",
          "data": {
            "text/plain": [
              "0    5\n",
              "1    5\n",
              "2    5\n",
              "3    5\n",
              "4    5\n",
              "Name: time, dtype: int64"
            ]
          },
          "metadata": {
            "tags": []
          },
          "execution_count": 58
        }
      ]
    },
    {
      "cell_type": "code",
      "metadata": {
        "id": "oAw49-V2mYGw",
        "colab": {
          "base_uri": "https://localhost:8080/",
          "height": 119
        },
        "outputId": "92554000-3c39-4e2a-eef8-c25b055c3c45"
      },
      "source": [
        "sa_traffic.time.dt.dayofyear.head()"
      ],
      "execution_count": null,
      "outputs": [
        {
          "output_type": "execute_result",
          "data": {
            "text/plain": [
              "0    291\n",
              "1    291\n",
              "2    291\n",
              "3    291\n",
              "4    291\n",
              "Name: time, dtype: int64"
            ]
          },
          "metadata": {
            "tags": []
          },
          "execution_count": 59
        }
      ]
    },
    {
      "cell_type": "markdown",
      "metadata": {
        "id": "meaD2a83me5K"
      },
      "source": [
        "## Timestamps"
      ]
    },
    {
      "cell_type": "code",
      "metadata": {
        "id": "1ErQcKEbmkuZ"
      },
      "source": [
        "ts = pd.to_datetime('1/1/2012')"
      ],
      "execution_count": null,
      "outputs": []
    },
    {
      "cell_type": "code",
      "metadata": {
        "id": "-LteHM7cms9f",
        "colab": {
          "base_uri": "https://localhost:8080/",
          "height": 289
        },
        "outputId": "392de1b9-7001-4316-d058-9ebd73bfe7bd"
      },
      "source": [
        "sa_traffic.loc[sa_traffic.time >= ts, :].head()"
      ],
      "execution_count": null,
      "outputs": [
        {
          "output_type": "execute_result",
          "data": {
            "text/html": [
              "<div>\n",
              "<style scoped>\n",
              "    .dataframe tbody tr th:only-of-type {\n",
              "        vertical-align: middle;\n",
              "    }\n",
              "\n",
              "    .dataframe tbody tr th {\n",
              "        vertical-align: top;\n",
              "    }\n",
              "\n",
              "    .dataframe thead th {\n",
              "        text-align: right;\n",
              "    }\n",
              "</style>\n",
              "<table border=\"1\" class=\"dataframe\">\n",
              "  <thead>\n",
              "    <tr style=\"text-align: right;\">\n",
              "      <th></th>\n",
              "      <th>date</th>\n",
              "      <th>time</th>\n",
              "      <th>location</th>\n",
              "      <th>substation</th>\n",
              "      <th>subject_age</th>\n",
              "      <th>subject_sex</th>\n",
              "      <th>violation</th>\n",
              "      <th>subject_race</th>\n",
              "    </tr>\n",
              "  </thead>\n",
              "  <tbody>\n",
              "    <tr>\n",
              "      <th>0</th>\n",
              "      <td>2015-04-03</td>\n",
              "      <td>2020-10-17 20:35:00</td>\n",
              "      <td>31       RUE CHARLES</td>\n",
              "      <td>NORTH</td>\n",
              "      <td>24.000000</td>\n",
              "      <td>male</td>\n",
              "      <td>FAILURE TO DISPLAY VALID REGISTRATION INSIGNIA...</td>\n",
              "      <td>white</td>\n",
              "    </tr>\n",
              "    <tr>\n",
              "      <th>1</th>\n",
              "      <td>2014-08-10</td>\n",
              "      <td>2020-10-17 09:55:00</td>\n",
              "      <td>FRONTAGE RD 16</td>\n",
              "      <td>SOUTH</td>\n",
              "      <td>35.782104</td>\n",
              "      <td>male</td>\n",
              "      <td>5-11 UNLAWFULLY SELLING AN ANIMAL AT ANOUTDOOR...</td>\n",
              "      <td>unknown</td>\n",
              "    </tr>\n",
              "    <tr>\n",
              "      <th>2</th>\n",
              "      <td>2014-11-01</td>\n",
              "      <td>2020-10-17 15:00:00</td>\n",
              "      <td>1900     DAKOTA</td>\n",
              "      <td>EAST</td>\n",
              "      <td>48.000000</td>\n",
              "      <td>male</td>\n",
              "      <td>5-150 VIOLATING ANIMAL NUISANCE REQUIREMENTS</td>\n",
              "      <td>hispanic</td>\n",
              "    </tr>\n",
              "    <tr>\n",
              "      <th>3</th>\n",
              "      <td>2014-02-14</td>\n",
              "      <td>2020-10-17 20:24:00</td>\n",
              "      <td>5439     ENCANTA</td>\n",
              "      <td>NORTH</td>\n",
              "      <td>40.000000</td>\n",
              "      <td>female</td>\n",
              "      <td>5-100 FAILURE TO COMPLY WITH DOG AND CATLICENS...</td>\n",
              "      <td>white</td>\n",
              "    </tr>\n",
              "    <tr>\n",
              "      <th>4</th>\n",
              "      <td>2014-11-03</td>\n",
              "      <td>2020-10-17 16:30:00</td>\n",
              "      <td>5530     HAVENCREST</td>\n",
              "      <td>SOUTH</td>\n",
              "      <td>44.000000</td>\n",
              "      <td>male</td>\n",
              "      <td>5-125 VIOLATING RABIES VACCINATION REQUIREMENT</td>\n",
              "      <td>hispanic</td>\n",
              "    </tr>\n",
              "  </tbody>\n",
              "</table>\n",
              "</div>"
            ],
            "text/plain": [
              "         date  ... subject_race\n",
              "0  2015-04-03  ...        white\n",
              "1  2014-08-10  ...      unknown\n",
              "2  2014-11-01  ...     hispanic\n",
              "3  2014-02-14  ...        white\n",
              "4  2014-11-03  ...     hispanic\n",
              "\n",
              "[5 rows x 8 columns]"
            ]
          },
          "metadata": {
            "tags": []
          },
          "execution_count": 61
        }
      ]
    },
    {
      "cell_type": "code",
      "metadata": {
        "id": "87xL1TSSnEds",
        "colab": {
          "base_uri": "https://localhost:8080/",
          "height": 34
        },
        "outputId": "7a3b7700-6a1f-4305-b811-e9608f5925fd"
      },
      "source": [
        "sa_traffic.time.max()"
      ],
      "execution_count": null,
      "outputs": [
        {
          "output_type": "execute_result",
          "data": {
            "text/plain": [
              "Timestamp('2020-10-17 23:59:00')"
            ]
          },
          "metadata": {
            "tags": []
          },
          "execution_count": 62
        }
      ]
    },
    {
      "cell_type": "code",
      "metadata": {
        "id": "pQDV45vfnNyR",
        "colab": {
          "base_uri": "https://localhost:8080/",
          "height": 34
        },
        "outputId": "41c621e9-ba34-4a1b-aace-a332aa341867"
      },
      "source": [
        "sa_traffic.time.max() - sa_traffic.time.min()"
      ],
      "execution_count": null,
      "outputs": [
        {
          "output_type": "execute_result",
          "data": {
            "text/plain": [
              "Timedelta('0 days 23:59:00')"
            ]
          },
          "metadata": {
            "tags": []
          },
          "execution_count": 63
        }
      ]
    },
    {
      "cell_type": "code",
      "metadata": {
        "id": "9GwQukPanXJG",
        "colab": {
          "base_uri": "https://localhost:8080/",
          "height": 34
        },
        "outputId": "1302173a-ef72-45f0-da0d-e536435293d1"
      },
      "source": [
        "(sa_traffic.time.max() - sa_traffic.time.min())"
      ],
      "execution_count": null,
      "outputs": [
        {
          "output_type": "execute_result",
          "data": {
            "text/plain": [
              "Timedelta('0 days 23:59:00')"
            ]
          },
          "metadata": {
            "tags": []
          },
          "execution_count": 64
        }
      ]
    },
    {
      "cell_type": "markdown",
      "metadata": {
        "id": "BGe8LgGhnsX7"
      },
      "source": [
        "## Plotting"
      ]
    },
    {
      "cell_type": "code",
      "metadata": {
        "id": "Dzyv-gA3nx2m"
      },
      "source": [
        "%matplotlib inline"
      ],
      "execution_count": null,
      "outputs": []
    },
    {
      "cell_type": "code",
      "metadata": {
        "id": "GvwXaW6ho4N0",
        "colab": {
          "base_uri": "https://localhost:8080/",
          "height": 289
        },
        "outputId": "11050708-018b-49a6-e1c9-0016a86305b6"
      },
      "source": [
        "sa_traffic.head()"
      ],
      "execution_count": null,
      "outputs": [
        {
          "output_type": "execute_result",
          "data": {
            "text/html": [
              "<div>\n",
              "<style scoped>\n",
              "    .dataframe tbody tr th:only-of-type {\n",
              "        vertical-align: middle;\n",
              "    }\n",
              "\n",
              "    .dataframe tbody tr th {\n",
              "        vertical-align: top;\n",
              "    }\n",
              "\n",
              "    .dataframe thead th {\n",
              "        text-align: right;\n",
              "    }\n",
              "</style>\n",
              "<table border=\"1\" class=\"dataframe\">\n",
              "  <thead>\n",
              "    <tr style=\"text-align: right;\">\n",
              "      <th></th>\n",
              "      <th>date</th>\n",
              "      <th>time</th>\n",
              "      <th>location</th>\n",
              "      <th>substation</th>\n",
              "      <th>subject_age</th>\n",
              "      <th>subject_sex</th>\n",
              "      <th>violation</th>\n",
              "      <th>subject_race</th>\n",
              "    </tr>\n",
              "  </thead>\n",
              "  <tbody>\n",
              "    <tr>\n",
              "      <th>0</th>\n",
              "      <td>2015-04-03</td>\n",
              "      <td>2020-10-17 20:35:00</td>\n",
              "      <td>31       RUE CHARLES</td>\n",
              "      <td>NORTH</td>\n",
              "      <td>24.000000</td>\n",
              "      <td>male</td>\n",
              "      <td>FAILURE TO DISPLAY VALID REGISTRATION INSIGNIA...</td>\n",
              "      <td>white</td>\n",
              "    </tr>\n",
              "    <tr>\n",
              "      <th>1</th>\n",
              "      <td>2014-08-10</td>\n",
              "      <td>2020-10-17 09:55:00</td>\n",
              "      <td>FRONTAGE RD 16</td>\n",
              "      <td>SOUTH</td>\n",
              "      <td>35.782104</td>\n",
              "      <td>male</td>\n",
              "      <td>5-11 UNLAWFULLY SELLING AN ANIMAL AT ANOUTDOOR...</td>\n",
              "      <td>unknown</td>\n",
              "    </tr>\n",
              "    <tr>\n",
              "      <th>2</th>\n",
              "      <td>2014-11-01</td>\n",
              "      <td>2020-10-17 15:00:00</td>\n",
              "      <td>1900     DAKOTA</td>\n",
              "      <td>EAST</td>\n",
              "      <td>48.000000</td>\n",
              "      <td>male</td>\n",
              "      <td>5-150 VIOLATING ANIMAL NUISANCE REQUIREMENTS</td>\n",
              "      <td>hispanic</td>\n",
              "    </tr>\n",
              "    <tr>\n",
              "      <th>3</th>\n",
              "      <td>2014-02-14</td>\n",
              "      <td>2020-10-17 20:24:00</td>\n",
              "      <td>5439     ENCANTA</td>\n",
              "      <td>NORTH</td>\n",
              "      <td>40.000000</td>\n",
              "      <td>female</td>\n",
              "      <td>5-100 FAILURE TO COMPLY WITH DOG AND CATLICENS...</td>\n",
              "      <td>white</td>\n",
              "    </tr>\n",
              "    <tr>\n",
              "      <th>4</th>\n",
              "      <td>2014-11-03</td>\n",
              "      <td>2020-10-17 16:30:00</td>\n",
              "      <td>5530     HAVENCREST</td>\n",
              "      <td>SOUTH</td>\n",
              "      <td>44.000000</td>\n",
              "      <td>male</td>\n",
              "      <td>5-125 VIOLATING RABIES VACCINATION REQUIREMENT</td>\n",
              "      <td>hispanic</td>\n",
              "    </tr>\n",
              "  </tbody>\n",
              "</table>\n",
              "</div>"
            ],
            "text/plain": [
              "         date  ... subject_race\n",
              "0  2015-04-03  ...        white\n",
              "1  2014-08-10  ...      unknown\n",
              "2  2014-11-01  ...     hispanic\n",
              "3  2014-02-14  ...        white\n",
              "4  2014-11-03  ...     hispanic\n",
              "\n",
              "[5 rows x 8 columns]"
            ]
          },
          "metadata": {
            "tags": []
          },
          "execution_count": 66
        }
      ]
    },
    {
      "cell_type": "code",
      "metadata": {
        "id": "vA_x5xsznuYM",
        "colab": {
          "base_uri": "https://localhost:8080/",
          "height": 285
        },
        "outputId": "33408b8a-276e-4ae3-d376-3e9626f44f5d"
      },
      "source": [
        "sa_traffic.substation.value_counts().plot()"
      ],
      "execution_count": null,
      "outputs": [
        {
          "output_type": "execute_result",
          "data": {
            "text/plain": [
              "<matplotlib.axes._subplots.AxesSubplot at 0x7f33fe5bcb38>"
            ]
          },
          "metadata": {
            "tags": []
          },
          "execution_count": 78
        },
        {
          "output_type": "display_data",
          "data": {
            "image/png": "[encoded data removed]",
            "text/plain": [
              "<Figure size 432x288 with 1 Axes>"
            ]
          },
          "metadata": {
            "tags": [],
            "needs_background": "light"
          }
        }
      ]
    },
    {
      "cell_type": "code",
      "metadata": {
        "id": "vaucOTmtfhzX",
        "colab": {
          "base_uri": "https://localhost:8080/",
          "height": 283
        },
        "outputId": "797570a8-4d89-48f1-88b1-58cde16b4118"
      },
      "source": [
        "sa_traffic.location.value_counts().sort_index().plot()"
      ],
      "execution_count": null,
      "outputs": [
        {
          "output_type": "execute_result",
          "data": {
            "text/plain": [
              "<matplotlib.axes._subplots.AxesSubplot at 0x7f3406cf1b38>"
            ]
          },
          "metadata": {
            "tags": []
          },
          "execution_count": 83
        },
        {
          "output_type": "display_data",
          "data": {
            "image/png": "[encoded data removed]",
            "text/plain": [
              "<Figure size 432x288 with 1 Axes>"
            ]
          },
          "metadata": {
            "tags": [],
            "needs_background": "light"
          }
        }
      ]
    },
    {
      "cell_type": "code",
      "metadata": {
        "id": "zSlEC93HfGj5",
        "colab": {
          "base_uri": "https://localhost:8080/",
          "height": 282
        },
        "outputId": "5cd00936-a5e5-454e-949d-f418160abeb8"
      },
      "source": [
        "sa_traffic.subject_age.value_counts().plot()"
      ],
      "execution_count": null,
      "outputs": [
        {
          "output_type": "execute_result",
          "data": {
            "text/plain": [
              "<matplotlib.axes._subplots.AxesSubplot at 0x7f33fdfac1d0>"
            ]
          },
          "metadata": {
            "tags": []
          },
          "execution_count": 79
        },
        {
          "output_type": "display_data",
          "data": {
            "image/png": "[encoded data removed]",
            "text/plain": [
              "<Figure size 432x288 with 1 Axes>"
            ]
          },
          "metadata": {
            "tags": [],
            "needs_background": "light"
          }
        }
      ]
    },
    {
      "cell_type": "code",
      "metadata": {
        "id": "fAqvNtCAfRgo",
        "colab": {
          "base_uri": "https://localhost:8080/",
          "height": 282
        },
        "outputId": "c87c51e3-21f4-4b58-a441-1a32947f58fb"
      },
      "source": [
        "sa_traffic.subject_race.value_counts().plot()"
      ],
      "execution_count": null,
      "outputs": [
        {
          "output_type": "execute_result",
          "data": {
            "text/plain": [
              "<matplotlib.axes._subplots.AxesSubplot at 0x7f340d366550>"
            ]
          },
          "metadata": {
            "tags": []
          },
          "execution_count": 80
        },
        {
          "output_type": "display_data",
          "data": {
            "image/png": "[encoded data removed]",
            "text/plain": [
              "<Figure size 432x288 with 1 Axes>"
            ]
          },
          "metadata": {
            "tags": [],
            "needs_background": "light"
          }
        }
      ]
    },
    {
      "cell_type": "code",
      "metadata": {
        "id": "B822X1TnfYkf",
        "colab": {
          "base_uri": "https://localhost:8080/",
          "height": 282
        },
        "outputId": "625b59b9-a72e-44ed-ea94-c998dea7b4c1"
      },
      "source": [
        "sa_traffic.subject_sex.value_counts().plot()"
      ],
      "execution_count": null,
      "outputs": [
        {
          "output_type": "execute_result",
          "data": {
            "text/plain": [
              "<matplotlib.axes._subplots.AxesSubplot at 0x7f33fdefe630>"
            ]
          },
          "metadata": {
            "tags": []
          },
          "execution_count": 81
        },
        {
          "output_type": "display_data",
          "data": {
            "image/png": "[encoded data removed]",
            "text/plain": [
              "<Figure size 432x288 with 1 Axes>"
            ]
          },
          "metadata": {
            "tags": [],
            "needs_background": "light"
          }
        }
      ]
    },
    {
      "cell_type": "code",
      "metadata": {
        "id": "rkdvaFkOf0wb",
        "colab": {
          "base_uri": "https://localhost:8080/",
          "height": 283
        },
        "outputId": "9cd9f84b-0b3e-4e98-93e3-b7ddb6f1a404"
      },
      "source": [
        "sa_traffic.violation.value_counts().sort_index().plot()"
      ],
      "execution_count": null,
      "outputs": [
        {
          "output_type": "execute_result",
          "data": {
            "text/plain": [
              "<matplotlib.axes._subplots.AxesSubplot at 0x7f340a4d2da0>"
            ]
          },
          "metadata": {
            "tags": []
          },
          "execution_count": 85
        },
        {
          "output_type": "display_data",
          "data": {
            "image/png": "[encoded data removed]",
            "text/plain": [
              "<Figure size 432x288 with 1 Axes>"
            ]
          },
          "metadata": {
            "tags": [],
            "needs_background": "light"
          }
        }
      ]
    }
  ]
}