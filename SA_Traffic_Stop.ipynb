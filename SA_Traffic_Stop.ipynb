{
 "cells": [
  {
   "cell_type": "markdown",
   "metadata": {
    "colab_type": "text",
    "id": "view-in-github"
   },
   "source": [
    "<a href=\"https://colab.research.google.com/github/Watirboi/data_science/blob/main/SA_Traffic_Stop.ipynb\" target=\"_parent\"><img src=\"https://colab.research.google.com/assets/colab-badge.svg\" alt=\"Open In Colab\"/></a>"
   ]
  },
  {
   "cell_type": "markdown",
   "metadata": {
    "id": "KxR9NjZ-j-cC"
   },
   "source": [
    "# Analyzing Traffic Data in San Antonio, TX"
   ]
  },
  {
   "cell_type": "markdown",
   "metadata": {
    "id": "VK4qngodhSoq"
   },
   "source": [
    "## Importing the Libraries"
   ]
  },
  {
   "cell_type": "code",
   "execution_count": null,
   "metadata": {
    "id": "qwpOgu9Pj8eG"
   },
   "outputs": [],
   "source": [
    "import pandas as pd\n",
    "# Suppress scientific notation\n",
    "pd.set_option('display.float_format', lambda x: '%.3f' % x)\n",
    "import numpy as np\n",
    "import matplotlib.pyplot as plt\n",
    "import seaborn as sns\n",
    "from sklearn.preprocessing import LabelEncoder\n",
    "import warnings\n",
    "warnings.simplefilter(action='ignore', category=FutureWarning)\n",
    "%matplotlib inline"
   ]
  },
  {
   "cell_type": "markdown",
   "metadata": {
    "id": "9l2FYWL7hZ-K"
   },
   "source": [
    "## Importing the Datasets"
   ]
  },
  {
   "cell_type": "code",
   "execution_count": null,
   "metadata": {
    "id": "K2CK4-mWkMMz"
   },
   "outputs": [],
   "source": [
    "filename = 'tx_san_antonio_2020_04_01.csv'\n",
    "names = ['date','time','location','substation','subject_age','subject_sex','violation','subject_race']\n",
    "sa_traffic = pd.read_csv(filename, header=0, usecols=names)\n",
    "sa_traffic = sa_traffic.reindex(columns=names)\n",
    "sa_traffic.head()"
   ]
  },
  {
   "cell_type": "code",
   "execution_count": null,
   "metadata": {},
   "outputs": [],
   "source": [
    "sa_traffic.shape"
   ]
  },
  {
   "cell_type": "markdown",
   "metadata": {
    "id": "YGnD6eR1nqY3"
   },
   "source": [
    "## Taking Care of missing data"
   ]
  },
  {
   "cell_type": "code",
   "execution_count": null,
   "metadata": {
    "colab": {
     "base_uri": "https://localhost:8080/",
     "height": 187
    },
    "id": "aFtYKqmHq7jm",
    "outputId": "d2dab50f-0de1-4af1-ac06-d3bce04ab527"
   },
   "outputs": [],
   "source": [
    "# missing data counts\n",
    "print(print(sa_traffic.isnull().sum()))"
   ]
  },
  {
   "cell_type": "code",
   "execution_count": null,
   "metadata": {},
   "outputs": [],
   "source": []
  },
  {
   "cell_type": "code",
   "execution_count": null,
   "metadata": {
    "colab": {
     "base_uri": "https://localhost:8080/",
     "height": 170
    },
    "id": "NC5FO2W8-4Su",
    "outputId": "573a6f19-8bd8-4aa3-9898-59b1ce8af3ee"
   },
   "outputs": [],
   "source": [
    "print(sa_traffic.dtypes)"
   ]
  },
  {
   "cell_type": "code",
   "execution_count": null,
   "metadata": {
    "id": "XjwgMthxp_zd"
   },
   "outputs": [],
   "source": [
    "from sklearn.impute import SimpleImputer\n",
    "# handle string date column\n",
    "s_imputer = SimpleImputer(missing_values=np.nan, strategy='constant', fill_value='No Data') # string or object values\n",
    "s_imputer.fit(sa_traffic.iloc[:, 0:1])\n",
    "sa_traffic.iloc[:, 0:1] = s_imputer.transform(sa_traffic.iloc[:, 0:1])\n",
    "\n",
    "# handle string time column\n",
    "s_time_imputer = SimpleImputer(missing_values=np.nan, strategy='constant', fill_value='00:00:00')\n",
    "s_time_imputer.fit(sa_traffic.iloc[:, 1:2]) \n",
    "sa_traffic.iloc[:, 1:2] = s_time_imputer.transform(sa_traffic.iloc[:, 1:2])\n",
    "\n",
    "# handle string ['location','substation'] columns\n",
    "s_imputer = SimpleImputer(missing_values=np.nan, strategy='constant', fill_value='No Data')\n",
    "s_imputer.fit(sa_traffic.iloc[:, 2:4]) \n",
    "sa_traffic.iloc[:, 2:4] = s_imputer.transform(sa_traffic.iloc[:, 2:4])\n",
    "\n",
    "s_subject_age_imputer = SimpleImputer(missing_values=np.nan, strategy='mean') # only numerical values\n",
    "s_subject_age_imputer.fit(sa_traffic.iloc[:, 4:5]) \n",
    "sa_traffic.iloc[:, 4:5] = s_subject_age_imputer.transform(sa_traffic.iloc[:, 4:5])\n",
    "\n",
    "s_imputer.fit(sa_traffic.iloc[:, 5:8])\n",
    "sa_traffic.iloc[:, 5:8] = s_imputer.transform(sa_traffic.iloc[:, 5:8])"
   ]
  },
  {
   "cell_type": "code",
   "execution_count": null,
   "metadata": {
    "colab": {
     "base_uri": "https://localhost:8080/",
     "height": 221
    },
    "id": "7UWj3ugNXv3A",
    "outputId": "d21e59fd-5580-4d6c-8368-01ec13c1e04b"
   },
   "outputs": [],
   "source": [
    "pd.to_datetime(sa_traffic['date'] + ' ' + sa_traffic['time'])"
   ]
  },
  {
   "cell_type": "code",
   "execution_count": null,
   "metadata": {
    "colab": {
     "base_uri": "https://localhost:8080/",
     "height": 187
    },
    "id": "gpGAOH1oUUOp",
    "outputId": "99b64bcb-fe17-4577-ea6c-0c274c667d1f"
   },
   "outputs": [],
   "source": [
    "# Verify no nulls remain\n",
    "print(print(sa_traffic.isnull().sum()))"
   ]
  },
  {
   "cell_type": "markdown",
   "metadata": {
    "id": "jP_yTM5DhkMI"
   },
   "source": [
    "## Dataset Evaluation"
   ]
  },
  {
   "cell_type": "code",
   "execution_count": null,
   "metadata": {
    "colab": {
     "base_uri": "https://localhost:8080/",
     "height": 289
    },
    "id": "uLy6TXoUkUOS",
    "outputId": "0459468f-4139-44d0-e5b0-2520617cd994"
   },
   "outputs": [],
   "source": [
    "sa_traffic.head()"
   ]
  },
  {
   "cell_type": "code",
   "execution_count": null,
   "metadata": {
    "colab": {
     "base_uri": "https://localhost:8080/",
     "height": 170
    },
    "id": "XY1E36TmknD7",
    "outputId": "055512e8-734e-4062-dee9-48545a01d06d"
   },
   "outputs": [],
   "source": [
    "sa_traffic.dtypes"
   ]
  },
  {
   "cell_type": "code",
   "execution_count": null,
   "metadata": {
    "colab": {
     "base_uri": "https://localhost:8080/",
     "height": 119
    },
    "id": "8cColf2qlMJ1",
    "outputId": "b4ae5ba6-a885-44cc-ac40-9c9286c36acf"
   },
   "outputs": [],
   "source": [
    "# 8 characters from the end to 6 characters from the end\n",
    "# this is quite a chore\n",
    "sa_traffic.time.str.slice(-8, -6).astype(int).head()"
   ]
  },
  {
   "cell_type": "code",
   "execution_count": null,
   "metadata": {
    "colab": {
     "base_uri": "https://localhost:8080/",
     "height": 289
    },
    "id": "1ar2CV9YlqPg",
    "outputId": "814a45af-8161-4d4f-9248-97b0b1fcf916"
   },
   "outputs": [],
   "source": [
    "# we will convert the Time column to datatime format\n",
    "# there are many options to ensure this works well with your data\n",
    "sa_traffic['time'] = pd.to_datetime(sa_traffic.time)\n",
    "sa_traffic.head()"
   ]
  },
  {
   "cell_type": "code",
   "execution_count": null,
   "metadata": {
    "colab": {
     "base_uri": "https://localhost:8080/",
     "height": 170
    },
    "id": "LoSHyE5Bl8A6",
    "outputId": "a83cb601-8b34-4468-d10a-608276b7d2fd"
   },
   "outputs": [],
   "source": [
    "sa_traffic.dtypes"
   ]
  },
  {
   "cell_type": "code",
   "execution_count": null,
   "metadata": {
    "colab": {
     "base_uri": "https://localhost:8080/",
     "height": 119
    },
    "id": "s0-XWm6HmNWo",
    "outputId": "db0945b8-2c29-4437-98d0-d993f48f1d52"
   },
   "outputs": [],
   "source": [
    "sa_traffic.time.dt.hour.head()"
   ]
  },
  {
   "cell_type": "code",
   "execution_count": null,
   "metadata": {
    "colab": {
     "base_uri": "https://localhost:8080/",
     "height": 119
    },
    "id": "55Y-teBemRQs",
    "outputId": "6b3d6080-4527-4475-808b-13679658e615"
   },
   "outputs": [],
   "source": [
    "sa_traffic.time.dt.weekday.head()"
   ]
  },
  {
   "cell_type": "code",
   "execution_count": null,
   "metadata": {
    "colab": {
     "base_uri": "https://localhost:8080/",
     "height": 119
    },
    "id": "oAw49-V2mYGw",
    "outputId": "92554000-3c39-4e2a-eef8-c25b055c3c45"
   },
   "outputs": [],
   "source": [
    "sa_traffic.time.dt.dayofyear.head()"
   ]
  },
  {
   "cell_type": "markdown",
   "metadata": {
    "id": "meaD2a83me5K"
   },
   "source": [
    "## Timestamps"
   ]
  },
  {
   "cell_type": "code",
   "execution_count": null,
   "metadata": {
    "id": "1ErQcKEbmkuZ"
   },
   "outputs": [],
   "source": [
    "ts = pd.to_datetime('1/1/2012')"
   ]
  },
  {
   "cell_type": "code",
   "execution_count": null,
   "metadata": {
    "colab": {
     "base_uri": "https://localhost:8080/",
     "height": 289
    },
    "id": "-LteHM7cms9f",
    "outputId": "392de1b9-7001-4316-d058-9ebd73bfe7bd"
   },
   "outputs": [],
   "source": [
    "sa_traffic.loc[sa_traffic.time >= ts, :].head()"
   ]
  },
  {
   "cell_type": "code",
   "execution_count": null,
   "metadata": {
    "colab": {
     "base_uri": "https://localhost:8080/",
     "height": 34
    },
    "id": "87xL1TSSnEds",
    "outputId": "7a3b7700-6a1f-4305-b811-e9608f5925fd"
   },
   "outputs": [],
   "source": [
    "sa_traffic.time.max()"
   ]
  },
  {
   "cell_type": "code",
   "execution_count": null,
   "metadata": {
    "colab": {
     "base_uri": "https://localhost:8080/",
     "height": 34
    },
    "id": "pQDV45vfnNyR",
    "outputId": "41c621e9-ba34-4a1b-aace-a332aa341867"
   },
   "outputs": [],
   "source": [
    "sa_traffic.time.max() - sa_traffic.time.min()"
   ]
  },
  {
   "cell_type": "code",
   "execution_count": null,
   "metadata": {
    "colab": {
     "base_uri": "https://localhost:8080/",
     "height": 34
    },
    "id": "9GwQukPanXJG",
    "outputId": "1302173a-ef72-45f0-da0d-e536435293d1"
   },
   "outputs": [],
   "source": [
    "(sa_traffic.time.max() - sa_traffic.time.min())"
   ]
  },
  {
   "cell_type": "markdown",
   "metadata": {
    "id": "BGe8LgGhnsX7"
   },
   "source": [
    "## Plotting"
   ]
  },
  {
   "cell_type": "code",
   "execution_count": null,
   "metadata": {
    "id": "Dzyv-gA3nx2m"
   },
   "outputs": [],
   "source": [
    "%matplotlib inline"
   ]
  },
  {
   "cell_type": "code",
   "execution_count": null,
   "metadata": {
    "colab": {
     "base_uri": "https://localhost:8080/",
     "height": 289
    },
    "id": "GvwXaW6ho4N0",
    "outputId": "11050708-018b-49a6-e1c9-0016a86305b6"
   },
   "outputs": [],
   "source": [
    "sa_traffic.head()"
   ]
  },
  {
   "cell_type": "code",
   "execution_count": null,
   "metadata": {
    "colab": {
     "base_uri": "https://localhost:8080/",
     "height": 285
    },
    "id": "vA_x5xsznuYM",
    "outputId": "33408b8a-276e-4ae3-d376-3e9626f44f5d"
   },
   "outputs": [],
   "source": [
    "subStation_vals = sa_traffic.substation.value_counts() # Provide a pandas series of the count of substations\n",
    "\n",
    "# The chart should display the proportion of substations in the subStation_vals\n",
    "\n",
    "(subStation_vals/sa_traffic.shape[0]).plot(kind=\"bar\");\n",
    "plt.title(\"Which substation recorded the most traffic stops\");"
   ]
  },
  {
   "cell_type": "code",
   "execution_count": null,
   "metadata": {
    "colab": {
     "base_uri": "https://localhost:8080/",
     "height": 283
    },
    "id": "vaucOTmtfhzX",
    "outputId": "797570a8-4d89-48f1-88b1-58cde16b4118"
   },
   "outputs": [],
   "source": [
    "location_vals = sa_traffic.location.value_counts() # Provide a pandas series of the count of locations\n",
    "\n",
    "# The chart should display the proportion of the top 10 locations in the location_vals\n",
    "\n",
    "(location_vals[:10]/sa_traffic.shape[0]).plot(kind=\"bar\");\n",
    "plt.title(\"Which location recorded the most traffic stops\");"
   ]
  },
  {
   "cell_type": "code",
   "execution_count": null,
   "metadata": {
    "colab": {
     "base_uri": "https://localhost:8080/",
     "height": 282
    },
    "id": "zSlEC93HfGj5",
    "outputId": "5cd00936-a5e5-454e-949d-f418160abeb8"
   },
   "outputs": [],
   "source": [
    "# The chart should display the proportion of age issued a violation\n",
    "\n",
    "sa_traffic['subject_age'].hist();\n",
    "plt.title(\"Which age was recorded the most during traffic stops\");"
   ]
  },
  {
   "cell_type": "code",
   "execution_count": null,
   "metadata": {},
   "outputs": [],
   "source": [
    "sa_traffic['subject_age'].mode()"
   ]
  },
  {
   "cell_type": "code",
   "execution_count": null,
   "metadata": {},
   "outputs": [],
   "source": [
    "sa_traffic['subject_age'].median()"
   ]
  },
  {
   "cell_type": "code",
   "execution_count": null,
   "metadata": {},
   "outputs": [],
   "source": [
    "sa_traffic['subject_age'].mean()"
   ]
  },
  {
   "cell_type": "code",
   "execution_count": null,
   "metadata": {
    "colab": {
     "base_uri": "https://localhost:8080/",
     "height": 282
    },
    "id": "fAqvNtCAfRgo",
    "outputId": "c87c51e3-21f4-4b58-a441-1a32947f58fb"
   },
   "outputs": [],
   "source": [
    "#sa_traffic.subject_race.value_counts().plot()\n",
    "\n",
    "race_vals = sa_traffic.subject_race.value_counts() # Provide a pandas series of the count of respective races\n",
    "\n",
    "# The chart should display the proportion of the top 10 races in the race_vals\n",
    "\n",
    "(race_vals[:10]/sa_traffic.shape[0]).plot(kind=\"bar\");\n",
    "plt.title(\"Which race was recorded the most during traffic stops\");"
   ]
  },
  {
   "cell_type": "code",
   "execution_count": null,
   "metadata": {},
   "outputs": [],
   "source": [
    "sa_traffic[(sa_traffic[\"subject_race\"] == \"hispanic\") & (sa_traffic[\"subject_sex\"] == \"male\")].count()"
   ]
  },
  {
   "cell_type": "code",
   "execution_count": null,
   "metadata": {
    "colab": {
     "base_uri": "https://localhost:8080/",
     "height": 282
    },
    "id": "B822X1TnfYkf",
    "outputId": "625b59b9-a72e-44ed-ea94-c998dea7b4c1"
   },
   "outputs": [],
   "source": [
    "gender_vals = sa_traffic.subject_sex.value_counts() # Provide a pandas series of the count of respective gender\n",
    "\n",
    "# The chart should display the proportion of the gender in the gender_vals\n",
    "\n",
    "(gender_vals[:10]/sa_traffic.shape[0]).plot(kind=\"bar\");\n",
    "plt.title(\"Which sex was recorded the most during traffic stops\");"
   ]
  },
  {
   "cell_type": "code",
   "execution_count": null,
   "metadata": {},
   "outputs": [],
   "source": [
    "gender_vals = sa_traffic.subject_sex.value_counts() # Provide a pandas series of the count of respective gender\n",
    "\n",
    "# The chart should display the proportion of the gender in the gender_vals\n",
    "\n",
    "gender_vals/sa_traffic.shape[0] - sum(sa_traffic.subject_sex.isnull())"
   ]
  },
  {
   "cell_type": "code",
   "execution_count": null,
   "metadata": {
    "colab": {
     "base_uri": "https://localhost:8080/",
     "height": 283
    },
    "id": "rkdvaFkOf0wb",
    "outputId": "9cd9f84b-0b3e-4e98-93e3-b7ddb6f1a404"
   },
   "outputs": [],
   "source": [
    "#sa_traffic.violation.value_counts().sort_index().plot()\n",
    "\n",
    "violation_vals = sa_traffic.violation.value_counts() # Provide a pandas series of the count of respective violations\n",
    "\n",
    "# The chart should display the proportion of the top 10 violations in the violation_vals\n",
    "\n",
    "(violation_vals[:10]/sa_traffic.shape[0]).plot(kind=\"bar\");\n",
    "plt.title(\"Which violation was recorded the most during traffic stops\");"
   ]
  },
  {
   "cell_type": "code",
   "execution_count": null,
   "metadata": {},
   "outputs": [],
   "source": [
    "# Get Continuous variables\n",
    "sa_traffic.describe()"
   ]
  },
  {
   "cell_type": "code",
   "execution_count": null,
   "metadata": {},
   "outputs": [],
   "source": [
    "sa_traffic.hist();"
   ]
  },
  {
   "cell_type": "code",
   "execution_count": null,
   "metadata": {},
   "outputs": [],
   "source": [
    "sns.heatmap(sa_traffic.corr(), annot=True, fmt='.2f');"
   ]
  },
  {
   "cell_type": "code",
   "execution_count": null,
   "metadata": {},
   "outputs": [],
   "source": [
    "sa_traffic.columns"
   ]
  },
  {
   "cell_type": "code",
   "execution_count": null,
   "metadata": {},
   "outputs": [],
   "source": [
    "sa_traffic.tail()"
   ]
  },
  {
   "cell_type": "code",
   "execution_count": null,
   "metadata": {},
   "outputs": [],
   "source": [
    "#labelencoder_X = LabelEncoder()\n",
    "#labelencoder_X.fit_transform(sa_traffic['subject_sex'])\n"
   ]
  },
  {
   "cell_type": "code",
   "execution_count": null,
   "metadata": {},
   "outputs": [],
   "source": [
    "sa_traffic.tail()"
   ]
  },
  {
   "cell_type": "code",
   "execution_count": null,
   "metadata": {},
   "outputs": [],
   "source": [
    "#sa_traffic.groupby(\"subject_race\").size()\n",
    "sa_traffic[\"subject_race\"].value_counts()"
   ]
  },
  {
   "cell_type": "code",
   "execution_count": null,
   "metadata": {},
   "outputs": [],
   "source": [
    "sa_traffic.date.min()"
   ]
  },
  {
   "cell_type": "code",
   "execution_count": null,
   "metadata": {},
   "outputs": [],
   "source": []
  }
 ],
 "metadata": {
  "colab": {
   "authorship_tag": "ABX9TyPTGI4Je1fEvmNCYAqYR4TY",
   "collapsed_sections": [
    "VK4qngodhSoq",
    "9l2FYWL7hZ-K",
    "YGnD6eR1nqY3",
    "jP_yTM5DhkMI",
    "meaD2a83me5K",
    "BGe8LgGhnsX7"
   ],
   "include_colab_link": true,
   "name": "SA_Traffic_Stop.ipynb",
   "provenance": []
  },
  "kernelspec": {
   "display_name": "Python 3",
   "language": "python",
   "name": "python3"
  },
  "language_info": {
   "codemirror_mode": {
    "name": "ipython",
    "version": 3
   },
   "file_extension": ".py",
   "mimetype": "text/x-python",
   "name": "python",
   "nbconvert_exporter": "python",
   "pygments_lexer": "ipython3",
   "version": "3.8.3"
  }
 },
 "nbformat": 4,
 "nbformat_minor": 1
}
